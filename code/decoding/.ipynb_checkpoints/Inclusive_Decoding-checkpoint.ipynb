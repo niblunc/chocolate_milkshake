{
 "cells": [
  {
   "cell_type": "markdown",
   "metadata": {},
   "source": [
    "# Decoding Chocolate "
   ]
  },
  {
   "cell_type": "markdown",
   "metadata": {},
   "source": [
    "### Set 1  \n",
    "> Nested CV Score: 65.6 %"
   ]
  },
  {
   "cell_type": "markdown",
   "metadata": {},
   "source": [
    " ![IMG](images/p1_SVM_nimask.png)"
   ]
  },
  {
   "cell_type": "markdown",
   "metadata": {},
   "source": [
    "Model Information:  \n",
    "> Data Prep  \n",
    "\n",
    "    Nifti Input Image: ~/images/inclusive_s1.nii.gz  \n",
    "    ORIGINAL behavioral list:  ['rest' 'h20_pic' 'h20_receipt' 'milkshake_pic' 'HF_LS_receipt' 'rinse'\n",
    "     'LF_LS_receipt' 'LF_HS_receipt' 'HF_HS_receipt']  \n",
    "    MODIFIED behavioral list  ['rest' 'h20_pic' 'h20_receipt' 'milkshake_pic' 'milkshake' 'rinse']  \n",
    "    FINAL behavioral list  ['h20_receipt' 'milkshake']  \n",
    "    MASK SIZE:  56  \n",
    "\n",
    "> Pipeline Generation  \n",
    "\n",
    "    SVC(C=1.0, cache_size=200, class_weight=None, coef0=0.0,\n",
    "      decision_function_shape='ovr', degree=3, gamma='auto_deprecated',\n",
    "      kernel='linear', max_iter=1000, probability=False, random_state=None,\n",
    "      shrinking=True, tol=0.001, verbose=False)  \n",
    "\n",
    "> Model Fitting \n",
    "\n",
    "    X SIZE:  33648730288  \n",
    "    Initial Prediction:  ['h20_receipt' 'h20_receipt' 'h20_receipt' ... 'h20_receipt' 'h20_receipt'\n",
    "     'h20_receipt']  \n",
    "    K_range:  [15, 30, 50, 100, 150, 300, 500, 1000, 3000, 1500, 5000]  \n",
    "    running nested CV......  \n",
    "    Fitting 5 folds for each of 11 candidates, totalling 55 fits  \n",
    "    Fitting 5 folds for each of 11 candidates, totalling 55 fits  \n",
    "    Fitting 5 folds for each of 11 candidates, totalling 55 fits  \n",
    "    Fitting 5 folds for each of 11 candidates, totalling 55 fits  \n",
    "    Fitting 5 folds for each of 11 candidates, totalling 55 fits  \n",
    "    Nested CV score: 0.6556  \n",
    "\n",
    "\n",
    "> Masking Image  \n",
    "\n",
    "    Time:  1221.8004031181335  \n",
    "    RESULTS:  {'Dataset': 'all_data_part1.nii.gz', 'Fit_Time': 459.9645643234253, 'CV_Time': 55778.79674577713, 'CV_Score': 0.6555978309615964, 'SVC': SVC(C=1.0, cache_size=200, class_weight=None, coef0=0.0,\n",
    "      decision_function_shape='ovr', degree=3, gamma='auto_deprecated',\n",
    "      kernel='linear', max_iter=1000, probability=False, random_state=None,\n",
    "      shrinking=True, tol=0.001, verbose=False)}  "
   ]
  },
  {
   "cell_type": "markdown",
   "metadata": {},
   "source": [
    "### Set 2  \n",
    "> Nested CV Score: 68.7 %"
   ]
  },
  {
   "cell_type": "markdown",
   "metadata": {},
   "source": [
    "\n",
    "![IMG](images/p2_SVM_nimask.png)"
   ]
  },
  {
   "cell_type": "markdown",
   "metadata": {},
   "source": [
    "Model Information:  \n",
    "> Data Prep  \n",
    "\n",
    "    Nifti Input Image: ~/images/inclusive_s2.nii.gz  \n",
    "    ORIGINAL BEHAVIORAL LIST:  ['rest' 'milkshake_pic' 'LF_LS_receipt' 'rinse' 'HF_LS_receipt'\n",
    "     'HF_HS_receipt' 'h20_pic' 'h20_receipt' 'LF_HS_receipt']  \n",
    "    MODIFIED BEHAVIORAL LIST: ['rest' 'milkshake_pic' 'milkshake' 'rinse' 'h20_pic' 'h20_receipt']  \n",
    "    FINAL BEHAVIORAL LIST:  ['milkshake' 'h20_receipt']  \n",
    "    MASK SIZE:  56   \n",
    "\n",
    "> Pipeline generation  \n",
    "\n",
    "    SVC(C=1.0, cache_size=200, class_weight=None, coef0=0.0,\n",
    "      decision_function_shape='ovr', degree=3, gamma='auto_deprecated',\n",
    "      kernel='linear', max_iter=1000, probability=False, random_state=None,\n",
    "      shrinking=True, tol=0.001, verbose=False)  \n",
    "\n",
    "> Model Fit  \n",
    "\n",
    "    SVC SIZE:  33093002512  \n",
    "    Initial Prediction:  ['milkshake' 'milkshake' 'milkshake' ... 'h20_receipt' 'h20_receipt'\n",
    "     'h20_receipt']  \n",
    "    K_range:  [15, 30, 50, 100, 150, 300, 500, 1000, 3000, 1500, 5000]    \n",
    "\n",
    "> Run CV \n",
    "\n",
    "    Fitting 5 folds for each of 11 candidates, totalling 55 fits  \n",
    "    Fitting 5 folds for each of 11 candidates, totalling 55 fits  \n",
    "    Fitting 5 folds for each of 11 candidates, totalling 55 fits  \n",
    "    Fitting 5 folds for each of 11 candidates, totalling 55 fits  \n",
    "    Fitting 5 folds for each of 11 candidates, totalling 55 fits  \n",
    "    Nested CV score: 0.6871  \n",
    "\n",
    "> Making Image \n",
    "\n",
    "    Time:  1202.4683179855347  \n",
    "    RESULTS:  {'Dataset': 'all_data_part2.nii.gz', 'Fit_Time': 413.24635910987854, 'CV_Time': 47789.36142897606, 'CV_Score': 0.6870671096965513, 'SVC': SVC(C=1.0, cache_size=200, class_weight=None, coef0=0.0,\n",
    "      decision_function_shape='ovr', degree=3, gamma='auto_deprecated',\n",
    "      kernel='linear', max_iter=1000, probability=False, random_state=None,\n",
    "      shrinking=True, tol=0.001, verbose=False)}  "
   ]
  },
  {
   "cell_type": "markdown",
   "metadata": {},
   "source": [
    "## View in FSLeyes  \n",
    "> Examples\n"
   ]
  },
  {
   "cell_type": "markdown",
   "metadata": {},
   "source": [
    "#### Set 1 & 2 layered\n",
    "> P1: Blue | P2: Red  \n",
    "\n",
    "![IMG](images/layers.png)   "
   ]
  },
  {
   "cell_type": "markdown",
   "metadata": {},
   "source": [
    "---"
   ]
  }
 ],
 "metadata": {
  "kernelspec": {
   "display_name": "Python 3",
   "language": "python",
   "name": "python3"
  },
  "language_info": {
   "codemirror_mode": {
    "name": "ipython",
    "version": 3
   },
   "file_extension": ".py",
   "mimetype": "text/x-python",
   "name": "python",
   "nbconvert_exporter": "python",
   "pygments_lexer": "ipython3",
   "version": "3.9.6"
  }
 },
 "nbformat": 4,
 "nbformat_minor": 4
}
