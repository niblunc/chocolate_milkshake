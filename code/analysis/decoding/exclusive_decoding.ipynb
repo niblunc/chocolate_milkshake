{
 "cells": [
  {
   "cell_type": "markdown",
   "metadata": {},
   "source": [
    "# Decoding Milkshake vs. H2O \n",
    "## Dataset: Exclusive waves 1-4 "
   ]
  },
  {
   "cell_type": "markdown",
   "metadata": {},
   "source": [
    "### Part 1\n",
    ">Nested CV Score: 60.02%  \n",
    "CV Time: 73638.84  \n",
    "\n"
   ]
  },
  {
   "cell_type": "markdown",
   "metadata": {},
   "source": [
    "![IMG](images/4w_p1_SVM_nimask.png)\n",
    "\n",
    "\n"
   ]
  },
  {
   "cell_type": "markdown",
   "metadata": {},
   "source": [
    "### Part 2   \n",
    ">Nested CV score: 0.6206  \n",
    "Total Time: 81010.53  \n",
    "CV Time: 79132.28   \n",
    "Initial fit/predict Time: 431.67   \n",
    "Masker Time: 171.62   \n",
    "  \n",
    "\n",
    "\n",
    "![IMG](images/4w_p2_SVM_nimask.png)"
   ]
  },
  {
   "cell_type": "markdown",
   "metadata": {},
   "source": [
    "\n"
   ]
  },
  {
   "cell_type": "markdown",
   "metadata": {},
   "source": [
    "### Comparison  \n",
    "> Red: part1 | Green: part2"
   ]
  },
  {
   "cell_type": "markdown",
   "metadata": {},
   "source": [
    "\n",
    "![IMG](images/layered.png)"
   ]
  },
  {
   "cell_type": "markdown",
   "metadata": {},
   "source": [
    "---"
   ]
  }
 ],
 "metadata": {
  "kernelspec": {
   "display_name": "Python 3",
   "language": "python",
   "name": "python3"
  },
  "language_info": {
   "codemirror_mode": {
    "name": "ipython",
    "version": 3
   },
   "file_extension": ".py",
   "mimetype": "text/x-python",
   "name": "python",
   "nbconvert_exporter": "python",
   "pygments_lexer": "ipython3",
   "version": "3.9.6"
  }
 },
 "nbformat": 4,
 "nbformat_minor": 4
}
