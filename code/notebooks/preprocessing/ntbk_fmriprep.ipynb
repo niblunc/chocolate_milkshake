{
 "cells": [
  {
   "cell_type": "markdown",
   "metadata": {},
   "source": [
    "---  \n",
    "# Chocolate Milkshake fMRIPREP"
   ]
  },
  {
   "cell_type": "code",
   "execution_count": 1,
   "metadata": {},
   "outputs": [],
   "source": [
    "# import pacakges \n",
    "\n",
    "import os, glob, shutil\n",
    "import ipywidgets as widgets\n",
    "import pandas as pd\n",
    "import matplotlib.pyplot as plt\n",
    "import matplotlib.image as mpimg\n",
    "import numpy as np\n",
    "import seaborn as sns\n",
    "import subprocess as sp\n",
    "\n",
    "import sys\n",
    "sys.path.append(\"/projects/niblab/go_through/jupyter_notebooks\")\n",
    "import fMRIPreprocessing\n",
    "\n",
    "\n",
    "from openpyxl import load_workbook\n",
    "from IPython.display import SVG, display\n",
    "from datetime import date\n",
    "\n",
    "pd.set_option('display.max_rows', None)\n",
    "pd.set_option('display.max_columns', None)\n",
    "pd.set_option('display.max_colwidth', None)\n",
    "#pd.set_option('display.max_rows', 159)\n",
    "#pd.set_option('display.max_colwidth', -1)\n",
    "from matplotlib import rcParams\n",
    "rcParams['axes.titlepad'] = 15\n",
    "\n",
    "%matplotlib inline "
   ]
  },
  {
   "cell_type": "code",
   "execution_count": 2,
   "metadata": {},
   "outputs": [],
   "source": [
    "# Variable load and setup\n",
    "date = date.today()\n",
    "study_folder_path=\"/projects/niblab/experiments/chocolate_milkshake\"\n",
    "data_folder_path= os.path.join(study_folder_path, \"data\")\n",
    "bids_path = os.path.join(data_folder_path, \"bids/bids_trimmed\")\n",
    "report_folder_path=os.path.join(data_folder_path, \"quality_analysis\")\n",
    "fmriprep_path='/projects/niblab/experiments/chocolate_milkshake/data/fmriprep/fmriprep_trimmed'"
   ]
  },
  {
   "cell_type": "code",
   "execution_count": 3,
   "metadata": {},
   "outputs": [],
   "source": [
    "fmriprep_folders=glob.glob(os.path.join(fmriprep_path, \"sub-*/ses-*\"))\n",
    "fmriprep_ses1=[x.split(\"/\")[-2] for x in fmriprep_folders if 'ses-1' in x]\n",
    "fmriprep_ses2=[x.split(\"/\")[-2] for x in fmriprep_folders if 'ses-2' in x]\n",
    "fmriprep_ses3=[x.split(\"/\")[-2] for x in fmriprep_folders if 'ses-3' in x]\n",
    "fmriprep_ses4=[x.split(\"/\")[-2] for x in fmriprep_folders if 'ses-4' in x]\n",
    "\n",
    "runs=['run-1','run-2','run-3', 'run-4']\n",
    "sessions=['ses-1','ses-2']\n",
    "tasks=['task-training']\n",
    "\n",
    "#subject_list=list(set(fmriprep_ses1))#+fmriprep_ses2))\n",
    "\n",
    "#subject_list.sort()\n",
    "\n",
    "bids_subs=[x.split(\"/\")[-1] for x in glob.glob(os.path.join(data_folder_path,\"bids/bids_trimmed/sub-*\"))]\n"
   ]
  },
  {
   "cell_type": "markdown",
   "metadata": {},
   "source": [
    "---  \n",
    "\n",
    "## SDC Setup\n",
    "We run this quick modification on BIDS before running FMRIPREP by adding functional references to the bids fmap (`.json`) files. This enables suscpetibility distortion correction (sdc) results from FMRIPREP.    \n",
    "**If you get a `[INFO] can't edit file` error-**  \n",
    "- check your bids folder permission and make sure you have writable permissions.  \n",
    "    `chmod -R 775 {bids_data_folder}`\n",
    "\n",
    "Code here: `/projects/niblab/jupyter_notebooks/fMRIPreprocessing.py`"
   ]
  },
  {
   "cell_type": "code",
   "execution_count": 10,
   "metadata": {},
   "outputs": [
    {
     "name": "stdout",
     "output_type": "stream",
     "text": [
      "[INFO] finished editing json files.\n"
     ]
    }
   ],
   "source": [
    "# run sdc prep module\n",
    "run_sdc=True #change to True to tcall the command\n",
    "# as input the module requires a path to the bids data, containing sub-xx folders, and a session id\n",
    "if run_sdc==True:\n",
    "    sdc = fMRIPreprocessing.SDC(bids_path, \"ses-4\")\n",
    "    sdc.fill_jsons()"
   ]
  },
  {
   "cell_type": "markdown",
   "metadata": {},
   "source": [
    "---"
   ]
  },
  {
   "cell_type": "code",
   "execution_count": 10,
   "metadata": {},
   "outputs": [
    {
     "name": "stdout",
     "output_type": "stream",
     "text": [
      "[INFO] 0 fmriprep ses-1 subjects \n"
     ]
    }
   ],
   "source": [
    "print(\"[INFO] %s fmriprep ses-1 subjects \"%len(fmriprep_ses1))"
   ]
  },
  {
   "cell_type": "code",
   "execution_count": 11,
   "metadata": {},
   "outputs": [
    {
     "name": "stdout",
     "output_type": "stream",
     "text": [
      "[INFO] 135 bids subjects \n"
     ]
    }
   ],
   "source": [
    "print(\"[INFO] %s bids subjects \"%len(bids_subs))"
   ]
  },
  {
   "cell_type": "code",
   "execution_count": 14,
   "metadata": {},
   "outputs": [
    {
     "data": {
      "text/plain": [
       "['sub-002', 'sub-004']"
      ]
     },
     "execution_count": 14,
     "metadata": {},
     "output_type": "execute_result"
    }
   ],
   "source": [
    "bids_subs.sort()\n",
    "bids_subs[1:3]"
   ]
  },
  {
   "cell_type": "code",
   "execution_count": 9,
   "metadata": {},
   "outputs": [],
   "source": [
    "def submit_fmriprep_batch(job_file, x, y, n, submit_job=False):\n",
    "    print('[INFO] batch file: %s'%job_file)\n",
    "    batch_cmd='sbatch --array={}-{}%{} {}'.format(x,y,n,job_file)\n",
    "    print('[INFO] batch command: {}'.format(batch_cmd))\n",
    "    \n",
    "    # submit batch job\n",
    "    if submit_job==True: \n",
    "        sp.run(batch_cmd, shell=True)        \n",
    "        print('[INFO] submitted job.')"
   ]
  },
  {
   "cell_type": "code",
   "execution_count": 10,
   "metadata": {},
   "outputs": [
    {
     "name": "stdout",
     "output_type": "stream",
     "text": [
      "[INFO] batch file: /projects/niblab/experiments/chocolate_milkshake/code/fmriprep.job\n",
      "[INFO] batch command: sbatch --array=1-155%135 /projects/niblab/experiments/chocolate_milkshake/code/fmriprep.job\n",
      "[INFO] submitted job.\n"
     ]
    }
   ],
   "source": [
    "# Set Parameters \n",
    "fmriprep_job_file='/projects/niblab/experiments/chocolate_milkshake/code/fmriprep.job'\n",
    "\n",
    "x=1\n",
    "y=155\n",
    "n=135\n",
    "submit_fmriprep_batch(fmriprep_job_file,x,y, n, submit_job=True)"
   ]
  },
  {
   "cell_type": "code",
   "execution_count": null,
   "metadata": {},
   "outputs": [],
   "source": [
    "# Set Parameters \n",
    "fmriprep_job_file='/projects/niblab/experiments/chocolate_milkshake/code/fmriprep.job'\n",
    "\n",
    "\n",
    "\n",
    "\n",
    "submit_fmriprep_batch(fmriprep_job_file,num_id,num_id, n=1, submit_job)\n",
    "\n",
    "submission_list=bids_subs[1:]\n",
    "\n",
    "\n",
    "\n",
    "# run single submission\n",
    "for sub_id in submission_list:\n",
    "    num_id=sub_id.split(\"-\")[1].lstrip('0')\n",
    "    submit_job=False # set to True when you want to run the file \n",
    "    submit_fmriprep_batch(fmriprep_job_file,num_id,num_id, n=1, submit_job)"
   ]
  },
  {
   "cell_type": "markdown",
   "metadata": {},
   "source": [
    "---  \n",
    "## Quality Report  "
   ]
  },
  {
   "cell_type": "code",
   "execution_count": 34,
   "metadata": {},
   "outputs": [],
   "source": [
    "\"\"\"\n",
    "# Methods\n",
    "\"\"\"\n",
    "\n",
    "def quality_report(bids_path,fmriprep_path, sessions):\n",
    "    \n",
    "    sessions_missing={}\n",
    "    sessions_found={}\n",
    "    for ses in sessions: \n",
    "\n",
    "        bids_subject_list=[x.split(\"/\")[-2] for x in \n",
    "                       glob.glob(os.path.join(bids_path, \"sub-*/%s\"%ses))]\n",
    "\n",
    "        bids_subject_list=[x for x in bids_subject_list ]#if x not in remove_subs]\n",
    "\n",
    "        fmriprep_folders=glob.glob(os.path.join(fmriprep_path, \"sub-*/ses-*\"))\n",
    "\n",
    "        fprep_subject_list=[x.split(\"/\")[-2] for x in fmriprep_folders if ses in x]\n",
    "\n",
    "        fprep_missing = [x for x in bids_subject_list if x not in fprep_subject_list]\n",
    "        \n",
    "        sessions_found[ses]=fprep_subject_list\n",
    "        sessions_missing[ses]=fprep_missing\n",
    "    \n",
    "    missing_list=[]\n",
    "    for x in sessions_missing.values():\n",
    "        for y in x:\n",
    "            missing_list.append(y)\n",
    "            \n",
    "    missing_list=list(set(missing_list))  \n",
    "    missing_list.sort()\n",
    "    print('[INFO] missing subjects: ', missing_list)\n",
    "\n",
    "    for ses in sessions_found:\n",
    "        print(\"\\n[INFO] %s subjects found (%s total): \\n %s \\n\"%(ses, len(sessions_found[ses]), sessions_found[ses]))\n",
    "\n",
    "\n",
    "\n",
    "    \n",
    "\"\"\"\n",
    "# Build FMRIPREP Report \n",
    "\n",
    "\"\"\"\n",
    "\n",
    "\n",
    "def build_fmriprep_report(fmriprep_path, sessions, tasks, sub_ct, write_files=False):\n",
    "    \n",
    "    print('[INFO] fmriprep data path: %s '%fmriprep_path)\n",
    "    dataframes=[]\n",
    "    df_dict={}\n",
    "    \n",
    "    for session in sessions:\n",
    "        \n",
    "        data_dict={} #initialize data dictionary for session\n",
    "        \n",
    "        for i in range(1,sub_ct+1):\n",
    "           \n",
    "            #milk_ct=0\n",
    "            \n",
    "        \n",
    "            subject=\"sub-%s\"%f'{i:03}'\n",
    "            bids_folder=os.path.join(fmriprep_path, subject,\n",
    "                                    session)\n",
    "\n",
    "            if subject not in data_dict:\n",
    "                data_dict[subject] = {}\n",
    "\n",
    "            # get anat file and save plot\n",
    "            #_space-MNI152NLin2009cAsym_desc-preproc_T1w.nii.g\n",
    "            anat_imgs =glob.glob(os.path.join(fmriprep_path, subject, \"anat\",\n",
    "                   '%s_space-MNI152NLin2009cAsym_desc-preproc_T1w.nii.gz'%(subject)))\n",
    "\n",
    "            #if os.path.exists(anat_img): \n",
    "            data_dict[subject][\"anat_file_ct\"]=len(anat_imgs)\n",
    "\n",
    "            # get functional files and check their volume and plot images\n",
    "            func_files=glob.glob(os.path.join(\n",
    "                    fmriprep_path, subject, session,\n",
    "                    \"func/*task-*_space-MNI152NLin2009cAsym_desc-preproc_bold.nii.gz\" ))\n",
    "            data_dict[subject][\"task_file_ct\"]=len(func_files)\n",
    "            \n",
    "            milk_ids=[]\n",
    "            milk_ct=0\n",
    "            \n",
    "            for func_file in func_files:\n",
    "                \n",
    "                task=func_file.split(\"/\")[-1].split(\"_\")[2]\n",
    "                vol = sp.check_output([\"fslnvols\", func_file])\n",
    "                vol=str(vol,'utf-8').strip(\"\\n\")\n",
    "                \n",
    "\n",
    "                if \"milkshake\"  in task:\n",
    "                    milk_ct+=1\n",
    "                    milk_id=task.split(\"-\")[1][9]\n",
    "                    milk_ids.append(milk_id)\n",
    "                    \n",
    "                    var_name=\"%s_vol\"%(\"milkshake%s\"%str(milk_ct))\n",
    "                else:\n",
    "                    var_name=\"%s_vol\"%task\n",
    "                    \n",
    "                data_dict[subject][var_name]=vol\n",
    "          \n",
    "            data_dict[subject][\"milkshake_ids\"]=milk_ids\n",
    "        \n",
    "        dataframe=pd.DataFrame(data_dict).T        \n",
    "        dataframes.append((dataframe, session))\n",
    "        #dataframe.to_excel(writer, sheet_name=\"%s_fmriprep\"%session)\n",
    "    #writer.save()\n",
    "    #writer.close()\n",
    "    return dataframes;\n"
   ]
  },
  {
   "cell_type": "code",
   "execution_count": 35,
   "metadata": {},
   "outputs": [],
   "source": [
    "bids_path=\"/projects/niblab/experiments/chocolate_milkshake/data/bids/bids_trimmed\"\n",
    "fmriprep_path=\"/projects/niblab/experiments/chocolate_milkshake/data/fmriprep_trimmed/fmriprep\"\n",
    "sessions=['ses-1', 'ses-2', 'ses-3', 'ses-4']"
   ]
  },
  {
   "cell_type": "code",
   "execution_count": 36,
   "metadata": {},
   "outputs": [
    {
     "name": "stdout",
     "output_type": "stream",
     "text": [
      "[INFO] fmriprep data path: /projects/niblab/experiments/chocolate_milkshake/data/fmriprep_trimmed/fmriprep \n"
     ]
    }
   ],
   "source": [
    "dfs=build_fmriprep_report(fmriprep_path, sessions, tasks, sub_ct=140, write_files=False)"
   ]
  },
  {
   "cell_type": "code",
   "execution_count": 38,
   "metadata": {},
   "outputs": [
    {
     "name": "stdout",
     "output_type": "stream",
     "text": [
      "[INFO] session: ses-1\n"
     ]
    },
    {
     "data": {
      "text/html": [
       "<div>\n",
       "<style scoped>\n",
       "    .dataframe tbody tr th:only-of-type {\n",
       "        vertical-align: middle;\n",
       "    }\n",
       "\n",
       "    .dataframe tbody tr th {\n",
       "        vertical-align: top;\n",
       "    }\n",
       "\n",
       "    .dataframe thead th {\n",
       "        text-align: right;\n",
       "    }\n",
       "</style>\n",
       "<table border=\"1\" class=\"dataframe\">\n",
       "  <thead>\n",
       "    <tr style=\"text-align: right;\">\n",
       "      <th></th>\n",
       "      <th>anat_file_ct</th>\n",
       "      <th>task_file_ct</th>\n",
       "      <th>milkshake1_vol</th>\n",
       "      <th>milkshake2_vol</th>\n",
       "      <th>task-imagine_vol</th>\n",
       "      <th>milkshake_ids</th>\n",
       "    </tr>\n",
       "  </thead>\n",
       "  <tbody>\n",
       "    <tr>\n",
       "      <th>sub-001</th>\n",
       "      <td>1</td>\n",
       "      <td>3</td>\n",
       "      <td>441</td>\n",
       "      <td>441</td>\n",
       "      <td>475</td>\n",
       "      <td>[C, B]</td>\n",
       "    </tr>\n",
       "    <tr>\n",
       "      <th>sub-002</th>\n",
       "      <td>1</td>\n",
       "      <td>3</td>\n",
       "      <td>443</td>\n",
       "      <td>415</td>\n",
       "      <td>475</td>\n",
       "      <td>[B, A]</td>\n",
       "    </tr>\n",
       "    <tr>\n",
       "      <th>sub-003</th>\n",
       "      <td>0</td>\n",
       "      <td>0</td>\n",
       "      <td>NaN</td>\n",
       "      <td>NaN</td>\n",
       "      <td>NaN</td>\n",
       "      <td>[]</td>\n",
       "    </tr>\n",
       "    <tr>\n",
       "      <th>sub-004</th>\n",
       "      <td>1</td>\n",
       "      <td>3</td>\n",
       "      <td>441</td>\n",
       "      <td>441</td>\n",
       "      <td>475</td>\n",
       "      <td>[B, A]</td>\n",
       "    </tr>\n",
       "    <tr>\n",
       "      <th>sub-005</th>\n",
       "      <td>1</td>\n",
       "      <td>3</td>\n",
       "      <td>441</td>\n",
       "      <td>441</td>\n",
       "      <td>475</td>\n",
       "      <td>[C, B]</td>\n",
       "    </tr>\n",
       "  </tbody>\n",
       "</table>\n",
       "</div>"
      ],
      "text/plain": [
       "        anat_file_ct task_file_ct milkshake1_vol milkshake2_vol  \\\n",
       "sub-001            1            3            441            441   \n",
       "sub-002            1            3            443            415   \n",
       "sub-003            0            0            NaN            NaN   \n",
       "sub-004            1            3            441            441   \n",
       "sub-005            1            3            441            441   \n",
       "\n",
       "        task-imagine_vol milkshake_ids  \n",
       "sub-001              475        [C, B]  \n",
       "sub-002              475        [B, A]  \n",
       "sub-003              NaN            []  \n",
       "sub-004              475        [B, A]  \n",
       "sub-005              475        [C, B]  "
      ]
     },
     "execution_count": 38,
     "metadata": {},
     "output_type": "execute_result"
    }
   ],
   "source": [
    "df1=dfs[0][0]\n",
    "print('[INFO] session: %s'%dfs[0][1])\n",
    "df1.head()"
   ]
  },
  {
   "cell_type": "code",
   "execution_count": 39,
   "metadata": {},
   "outputs": [
    {
     "name": "stdout",
     "output_type": "stream",
     "text": [
      "[INFO] session: ses-2\n"
     ]
    },
    {
     "data": {
      "text/html": [
       "<div>\n",
       "<style scoped>\n",
       "    .dataframe tbody tr th:only-of-type {\n",
       "        vertical-align: middle;\n",
       "    }\n",
       "\n",
       "    .dataframe tbody tr th {\n",
       "        vertical-align: top;\n",
       "    }\n",
       "\n",
       "    .dataframe thead th {\n",
       "        text-align: right;\n",
       "    }\n",
       "</style>\n",
       "<table border=\"1\" class=\"dataframe\">\n",
       "  <thead>\n",
       "    <tr style=\"text-align: right;\">\n",
       "      <th></th>\n",
       "      <th>anat_file_ct</th>\n",
       "      <th>task_file_ct</th>\n",
       "      <th>milkshake1_vol</th>\n",
       "      <th>milkshake2_vol</th>\n",
       "      <th>task-imagine_vol</th>\n",
       "      <th>milkshake_ids</th>\n",
       "    </tr>\n",
       "  </thead>\n",
       "  <tbody>\n",
       "    <tr>\n",
       "      <th>sub-001</th>\n",
       "      <td>1</td>\n",
       "      <td>3</td>\n",
       "      <td>441</td>\n",
       "      <td>441</td>\n",
       "      <td>475</td>\n",
       "      <td>[C, B]</td>\n",
       "    </tr>\n",
       "    <tr>\n",
       "      <th>sub-002</th>\n",
       "      <td>1</td>\n",
       "      <td>3</td>\n",
       "      <td>441</td>\n",
       "      <td>441</td>\n",
       "      <td>475</td>\n",
       "      <td>[B, A]</td>\n",
       "    </tr>\n",
       "    <tr>\n",
       "      <th>sub-003</th>\n",
       "      <td>0</td>\n",
       "      <td>0</td>\n",
       "      <td>NaN</td>\n",
       "      <td>NaN</td>\n",
       "      <td>NaN</td>\n",
       "      <td>[]</td>\n",
       "    </tr>\n",
       "    <tr>\n",
       "      <th>sub-004</th>\n",
       "      <td>1</td>\n",
       "      <td>3</td>\n",
       "      <td>441</td>\n",
       "      <td>441</td>\n",
       "      <td>475</td>\n",
       "      <td>[C, B]</td>\n",
       "    </tr>\n",
       "    <tr>\n",
       "      <th>sub-005</th>\n",
       "      <td>1</td>\n",
       "      <td>3</td>\n",
       "      <td>441</td>\n",
       "      <td>441</td>\n",
       "      <td>475</td>\n",
       "      <td>[D, B]</td>\n",
       "    </tr>\n",
       "  </tbody>\n",
       "</table>\n",
       "</div>"
      ],
      "text/plain": [
       "        anat_file_ct task_file_ct milkshake1_vol milkshake2_vol  \\\n",
       "sub-001            1            3            441            441   \n",
       "sub-002            1            3            441            441   \n",
       "sub-003            0            0            NaN            NaN   \n",
       "sub-004            1            3            441            441   \n",
       "sub-005            1            3            441            441   \n",
       "\n",
       "        task-imagine_vol milkshake_ids  \n",
       "sub-001              475        [C, B]  \n",
       "sub-002              475        [B, A]  \n",
       "sub-003              NaN            []  \n",
       "sub-004              475        [C, B]  \n",
       "sub-005              475        [D, B]  "
      ]
     },
     "execution_count": 39,
     "metadata": {},
     "output_type": "execute_result"
    }
   ],
   "source": [
    "df1=dfs[1][0]\n",
    "print('[INFO] session: %s'%dfs[1][1])\n",
    "df1.head()"
   ]
  },
  {
   "cell_type": "code",
   "execution_count": 40,
   "metadata": {},
   "outputs": [
    {
     "name": "stdout",
     "output_type": "stream",
     "text": [
      "[INFO] session: ses-3\n"
     ]
    },
    {
     "data": {
      "text/html": [
       "<div>\n",
       "<style scoped>\n",
       "    .dataframe tbody tr th:only-of-type {\n",
       "        vertical-align: middle;\n",
       "    }\n",
       "\n",
       "    .dataframe tbody tr th {\n",
       "        vertical-align: top;\n",
       "    }\n",
       "\n",
       "    .dataframe thead th {\n",
       "        text-align: right;\n",
       "    }\n",
       "</style>\n",
       "<table border=\"1\" class=\"dataframe\">\n",
       "  <thead>\n",
       "    <tr style=\"text-align: right;\">\n",
       "      <th></th>\n",
       "      <th>anat_file_ct</th>\n",
       "      <th>task_file_ct</th>\n",
       "      <th>milkshake1_vol</th>\n",
       "      <th>milkshake2_vol</th>\n",
       "      <th>task-imagine_vol</th>\n",
       "      <th>milkshake_ids</th>\n",
       "    </tr>\n",
       "  </thead>\n",
       "  <tbody>\n",
       "    <tr>\n",
       "      <th>sub-001</th>\n",
       "      <td>1</td>\n",
       "      <td>3</td>\n",
       "      <td>441</td>\n",
       "      <td>441</td>\n",
       "      <td>475</td>\n",
       "      <td>[D, C]</td>\n",
       "    </tr>\n",
       "    <tr>\n",
       "      <th>sub-002</th>\n",
       "      <td>1</td>\n",
       "      <td>3</td>\n",
       "      <td>441</td>\n",
       "      <td>441</td>\n",
       "      <td>475</td>\n",
       "      <td>[D, B]</td>\n",
       "    </tr>\n",
       "    <tr>\n",
       "      <th>sub-003</th>\n",
       "      <td>0</td>\n",
       "      <td>0</td>\n",
       "      <td>NaN</td>\n",
       "      <td>NaN</td>\n",
       "      <td>NaN</td>\n",
       "      <td>[]</td>\n",
       "    </tr>\n",
       "    <tr>\n",
       "      <th>sub-004</th>\n",
       "      <td>1</td>\n",
       "      <td>3</td>\n",
       "      <td>441</td>\n",
       "      <td>441</td>\n",
       "      <td>475</td>\n",
       "      <td>[D, C]</td>\n",
       "    </tr>\n",
       "    <tr>\n",
       "      <th>sub-005</th>\n",
       "      <td>1</td>\n",
       "      <td>3</td>\n",
       "      <td>441</td>\n",
       "      <td>441</td>\n",
       "      <td>475</td>\n",
       "      <td>[B, A]</td>\n",
       "    </tr>\n",
       "  </tbody>\n",
       "</table>\n",
       "</div>"
      ],
      "text/plain": [
       "        anat_file_ct task_file_ct milkshake1_vol milkshake2_vol  \\\n",
       "sub-001            1            3            441            441   \n",
       "sub-002            1            3            441            441   \n",
       "sub-003            0            0            NaN            NaN   \n",
       "sub-004            1            3            441            441   \n",
       "sub-005            1            3            441            441   \n",
       "\n",
       "        task-imagine_vol milkshake_ids  \n",
       "sub-001              475        [D, C]  \n",
       "sub-002              475        [D, B]  \n",
       "sub-003              NaN            []  \n",
       "sub-004              475        [D, C]  \n",
       "sub-005              475        [B, A]  "
      ]
     },
     "execution_count": 40,
     "metadata": {},
     "output_type": "execute_result"
    }
   ],
   "source": [
    "df1=dfs[2][0]\n",
    "print('[INFO] session: %s'%dfs[2][1])\n",
    "df1.head()"
   ]
  },
  {
   "cell_type": "code",
   "execution_count": 42,
   "metadata": {},
   "outputs": [
    {
     "name": "stdout",
     "output_type": "stream",
     "text": [
      "[INFO] session: ses-4\n"
     ]
    },
    {
     "data": {
      "text/html": [
       "<div>\n",
       "<style scoped>\n",
       "    .dataframe tbody tr th:only-of-type {\n",
       "        vertical-align: middle;\n",
       "    }\n",
       "\n",
       "    .dataframe tbody tr th {\n",
       "        vertical-align: top;\n",
       "    }\n",
       "\n",
       "    .dataframe thead th {\n",
       "        text-align: right;\n",
       "    }\n",
       "</style>\n",
       "<table border=\"1\" class=\"dataframe\">\n",
       "  <thead>\n",
       "    <tr style=\"text-align: right;\">\n",
       "      <th></th>\n",
       "      <th>anat_file_ct</th>\n",
       "      <th>task_file_ct</th>\n",
       "      <th>milkshake1_vol</th>\n",
       "      <th>milkshake2_vol</th>\n",
       "      <th>task-imagine_vol</th>\n",
       "      <th>milkshake_ids</th>\n",
       "    </tr>\n",
       "  </thead>\n",
       "  <tbody>\n",
       "    <tr>\n",
       "      <th>sub-001</th>\n",
       "      <td>1</td>\n",
       "      <td>3</td>\n",
       "      <td>441</td>\n",
       "      <td>441</td>\n",
       "      <td>475</td>\n",
       "      <td>[D, A]</td>\n",
       "    </tr>\n",
       "    <tr>\n",
       "      <th>sub-002</th>\n",
       "      <td>1</td>\n",
       "      <td>3</td>\n",
       "      <td>441</td>\n",
       "      <td>441</td>\n",
       "      <td>475</td>\n",
       "      <td>[C, A]</td>\n",
       "    </tr>\n",
       "    <tr>\n",
       "      <th>sub-003</th>\n",
       "      <td>0</td>\n",
       "      <td>0</td>\n",
       "      <td>NaN</td>\n",
       "      <td>NaN</td>\n",
       "      <td>NaN</td>\n",
       "      <td>[]</td>\n",
       "    </tr>\n",
       "    <tr>\n",
       "      <th>sub-004</th>\n",
       "      <td>1</td>\n",
       "      <td>3</td>\n",
       "      <td>441</td>\n",
       "      <td>441</td>\n",
       "      <td>475</td>\n",
       "      <td>[D, C]</td>\n",
       "    </tr>\n",
       "    <tr>\n",
       "      <th>sub-005</th>\n",
       "      <td>1</td>\n",
       "      <td>3</td>\n",
       "      <td>441</td>\n",
       "      <td>441</td>\n",
       "      <td>475</td>\n",
       "      <td>[D, B]</td>\n",
       "    </tr>\n",
       "  </tbody>\n",
       "</table>\n",
       "</div>"
      ],
      "text/plain": [
       "        anat_file_ct task_file_ct milkshake1_vol milkshake2_vol  \\\n",
       "sub-001            1            3            441            441   \n",
       "sub-002            1            3            441            441   \n",
       "sub-003            0            0            NaN            NaN   \n",
       "sub-004            1            3            441            441   \n",
       "sub-005            1            3            441            441   \n",
       "\n",
       "        task-imagine_vol milkshake_ids  \n",
       "sub-001              475        [D, A]  \n",
       "sub-002              475        [C, A]  \n",
       "sub-003              NaN            []  \n",
       "sub-004              475        [D, C]  \n",
       "sub-005              475        [D, B]  "
      ]
     },
     "execution_count": 42,
     "metadata": {},
     "output_type": "execute_result"
    }
   ],
   "source": [
    "df4=dfs[3][0]\n",
    "print('[INFO] session: %s'%dfs[3][1])\n",
    "df4.head()"
   ]
  },
  {
   "cell_type": "code",
   "execution_count": 7,
   "metadata": {},
   "outputs": [
    {
     "name": "stdout",
     "output_type": "stream",
     "text": [
      "[INFO] missing subjects:  ['sub-118', 'sub-125', 'sub-127', 'sub-137', 'sub-138', 'sub-139', 'sub-142', 'sub-143', 'sub-144', 'sub-145', 'sub-146', 'sub-147', 'sub-150', 'sub-151', 'sub-152', 'sub-153', 'sub-154']\n",
      "\n",
      "[INFO] ses-1 subjects found (116 total): \n",
      " ['sub-001', 'sub-002', 'sub-004', 'sub-006', 'sub-005', 'sub-015', 'sub-020', 'sub-021', 'sub-019', 'sub-010', 'sub-013', 'sub-014', 'sub-011', 'sub-022', 'sub-017', 'sub-012', 'sub-018', 'sub-008', 'sub-009', 'sub-026', 'sub-027', 'sub-029', 'sub-030', 'sub-028', 'sub-032', 'sub-033', 'sub-034', 'sub-035', 'sub-037', 'sub-038', 'sub-039', 'sub-040', 'sub-041', 'sub-042', 'sub-043', 'sub-044', 'sub-045', 'sub-047', 'sub-046', 'sub-048', 'sub-049', 'sub-051', 'sub-052', 'sub-053', 'sub-054', 'sub-055', 'sub-057', 'sub-056', 'sub-058', 'sub-059', 'sub-060', 'sub-061', 'sub-062', 'sub-063', 'sub-064', 'sub-065', 'sub-066', 'sub-068', 'sub-069', 'sub-071', 'sub-072', 'sub-073', 'sub-075', 'sub-077', 'sub-076', 'sub-080', 'sub-079', 'sub-078', 'sub-081', 'sub-082', 'sub-083', 'sub-084', 'sub-085', 'sub-087', 'sub-088', 'sub-089', 'sub-090', 'sub-092', 'sub-093', 'sub-094', 'sub-095', 'sub-096', 'sub-097', 'sub-098', 'sub-099', 'sub-100', 'sub-101', 'sub-102', 'sub-103', 'sub-104', 'sub-105', 'sub-106', 'sub-107', 'sub-108', 'sub-109', 'sub-110', 'sub-111', 'sub-112', 'sub-114', 'sub-113', 'sub-116', 'sub-115', 'sub-117', 'sub-118', 'sub-119', 'sub-120', 'sub-122', 'sub-123', 'sub-124', 'sub-126', 'sub-128', 'sub-130', 'sub-131', 'sub-132', 'sub-133', 'sub-136'] \n",
      "\n",
      "\n",
      "[INFO] ses-2 subjects found (107 total): \n",
      " ['sub-007', 'sub-001', 'sub-002', 'sub-004', 'sub-006', 'sub-005', 'sub-021', 'sub-019', 'sub-010', 'sub-013', 'sub-014', 'sub-011', 'sub-022', 'sub-017', 'sub-012', 'sub-018', 'sub-008', 'sub-009', 'sub-027', 'sub-030', 'sub-028', 'sub-032', 'sub-033', 'sub-034', 'sub-035', 'sub-037', 'sub-039', 'sub-040', 'sub-041', 'sub-042', 'sub-043', 'sub-044', 'sub-045', 'sub-047', 'sub-046', 'sub-048', 'sub-049', 'sub-051', 'sub-052', 'sub-053', 'sub-054', 'sub-055', 'sub-057', 'sub-056', 'sub-058', 'sub-059', 'sub-060', 'sub-061', 'sub-062', 'sub-063', 'sub-064', 'sub-065', 'sub-066', 'sub-068', 'sub-069', 'sub-071', 'sub-072', 'sub-073', 'sub-075', 'sub-077', 'sub-076', 'sub-079', 'sub-078', 'sub-081', 'sub-082', 'sub-083', 'sub-084', 'sub-085', 'sub-088', 'sub-089', 'sub-090', 'sub-091', 'sub-092', 'sub-093', 'sub-094', 'sub-095', 'sub-096', 'sub-097', 'sub-098', 'sub-099', 'sub-101', 'sub-102', 'sub-103', 'sub-104', 'sub-105', 'sub-106', 'sub-107', 'sub-108', 'sub-109', 'sub-110', 'sub-112', 'sub-114', 'sub-113', 'sub-116', 'sub-115', 'sub-117', 'sub-119', 'sub-120', 'sub-122', 'sub-123', 'sub-126', 'sub-128', 'sub-130', 'sub-131', 'sub-132', 'sub-133', 'sub-136'] \n",
      "\n",
      "\n",
      "[INFO] ses-3 subjects found (99 total): \n",
      " ['sub-001', 'sub-002', 'sub-004', 'sub-006', 'sub-005', 'sub-013', 'sub-014', 'sub-011', 'sub-022', 'sub-017', 'sub-012', 'sub-018', 'sub-008', 'sub-009', 'sub-030', 'sub-028', 'sub-032', 'sub-033', 'sub-034', 'sub-037', 'sub-040', 'sub-041', 'sub-042', 'sub-043', 'sub-044', 'sub-045', 'sub-047', 'sub-046', 'sub-048', 'sub-049', 'sub-051', 'sub-052', 'sub-053', 'sub-054', 'sub-055', 'sub-057', 'sub-056', 'sub-058', 'sub-060', 'sub-061', 'sub-062', 'sub-063', 'sub-064', 'sub-065', 'sub-066', 'sub-068', 'sub-069', 'sub-071', 'sub-072', 'sub-073', 'sub-075', 'sub-077', 'sub-076', 'sub-079', 'sub-078', 'sub-081', 'sub-082', 'sub-083', 'sub-084', 'sub-085', 'sub-088', 'sub-089', 'sub-090', 'sub-092', 'sub-093', 'sub-094', 'sub-095', 'sub-096', 'sub-097', 'sub-098', 'sub-099', 'sub-101', 'sub-102', 'sub-103', 'sub-104', 'sub-105', 'sub-106', 'sub-107', 'sub-109', 'sub-110', 'sub-112', 'sub-114', 'sub-113', 'sub-116', 'sub-115', 'sub-117', 'sub-118', 'sub-119', 'sub-120', 'sub-121', 'sub-122', 'sub-123', 'sub-126', 'sub-128', 'sub-130', 'sub-131', 'sub-132', 'sub-133', 'sub-136'] \n",
      "\n",
      "\n",
      "[INFO] ses-4 subjects found (96 total): \n",
      " ['sub-007', 'sub-001', 'sub-002', 'sub-004', 'sub-006', 'sub-005', 'sub-013', 'sub-014', 'sub-011', 'sub-022', 'sub-017', 'sub-012', 'sub-018', 'sub-008', 'sub-029', 'sub-030', 'sub-028', 'sub-032', 'sub-033', 'sub-034', 'sub-037', 'sub-040', 'sub-041', 'sub-042', 'sub-043', 'sub-044', 'sub-045', 'sub-047', 'sub-046', 'sub-048', 'sub-049', 'sub-051', 'sub-052', 'sub-053', 'sub-054', 'sub-055', 'sub-057', 'sub-056', 'sub-058', 'sub-059', 'sub-060', 'sub-061', 'sub-062', 'sub-063', 'sub-064', 'sub-065', 'sub-066', 'sub-068', 'sub-071', 'sub-072', 'sub-075', 'sub-077', 'sub-076', 'sub-079', 'sub-078', 'sub-081', 'sub-082', 'sub-083', 'sub-084', 'sub-085', 'sub-088', 'sub-089', 'sub-090', 'sub-092', 'sub-093', 'sub-094', 'sub-095', 'sub-096', 'sub-097', 'sub-098', 'sub-099', 'sub-101', 'sub-102', 'sub-103', 'sub-104', 'sub-105', 'sub-106', 'sub-107', 'sub-109', 'sub-110', 'sub-114', 'sub-113', 'sub-116', 'sub-115', 'sub-117', 'sub-118', 'sub-119', 'sub-120', 'sub-121', 'sub-122', 'sub-123', 'sub-126', 'sub-128', 'sub-130', 'sub-131', 'sub-132'] \n",
      "\n"
     ]
    }
   ],
   "source": [
    "quality_report(bids_path,fmriprep_path, sessions)"
   ]
  },
  {
   "cell_type": "markdown",
   "metadata": {},
   "source": [
    "---"
   ]
  }
 ],
 "metadata": {
  "kernelspec": {
   "display_name": "Python 3",
   "language": "python",
   "name": "python3"
  },
  "language_info": {
   "codemirror_mode": {
    "name": "ipython",
    "version": 3
   },
   "file_extension": ".py",
   "mimetype": "text/x-python",
   "name": "python",
   "nbconvert_exporter": "python",
   "pygments_lexer": "ipython3",
   "version": "3.7.8"
  }
 },
 "nbformat": 4,
 "nbformat_minor": 4
}
