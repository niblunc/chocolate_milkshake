{
 "cells": [
  {
   "cell_type": "code",
   "execution_count": null,
   "metadata": {},
   "outputs": [],
   "source": [
    "import glob\n",
    "import os\n",
    "import re\n",
    "DER_DIR = \"/projects/niblab/bids_projects/Experiments/ChocoData/derivatives\"\n",
    "SUB_DIR = \"/projects/niblab/bids_projects/Experiments/ChocoData/derivatives/sub-*/ses-4\"\n",
    "SUB_DIRS = glob.glob(SUB_DIR)\n",
    "\n",
    "#f = open(os.path.join(DER_DIR, \"design_files/design_3.fsf\"), \"r\")\n",
    "\n",
    "OUTFILE_PATH=\"design3_115subjects.fsf\"\n",
    "    \n",
    "with open(os.path.join(DER_DIR, \"design_files/test3.fsf\"), 'r') as infile:\n",
    "        tempfsf=infile.read()\n",
    "        for i in range(1,116):\n",
    "            tempfsf = tempfsf.replace('set feat_files(%s) \"/projects/niblab/data/eric_data/W1/\"'%str(i), \"set feat_files(%s) FEAT-%s_FILE\"%(str(i),str(i)))\n",
    "        print(tempfsf)\n",
    "            \n",
    "        with open(OUTFILE_PATH, \"w\") as outfile:\n",
    "            outfile.write(tempfsf)\n",
    "        outfile.close()\n",
    "        \n",
    "        \n",
    "        "
   ]
  }
 ],
 "metadata": {
  "kernelspec": {
   "display_name": "Python 3",
   "language": "python",
   "name": "python3"
  },
  "language_info": {
   "codemirror_mode": {
    "name": "ipython",
    "version": 3
   },
   "file_extension": ".py",
   "mimetype": "text/x-python",
   "name": "python",
   "nbconvert_exporter": "python",
   "pygments_lexer": "ipython3",
   "version": "3.6.7"
  }
 },
 "nbformat": 4,
 "nbformat_minor": 2
}
