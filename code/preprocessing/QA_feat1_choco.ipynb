{
 "cells": [
  {
   "cell_type": "markdown",
   "metadata": {},
   "source": [
    "# QA Feat1 - Chocolate "
   ]
  },
  {
   "cell_type": "markdown",
   "metadata": {},
   "source": [
    "Check z-stats should be present  \n",
    "Check errors in logs   \n",
    "Look through logs   "
   ]
  },
  {
   "cell_type": "code",
   "execution_count": null,
   "metadata": {},
   "outputs": [],
   "source": [
    "import glob, os, subprocess\n",
    "import pandas as pd\n",
    "import subprocess\n",
    "\n",
    "QA_dict = {}\n",
    "sessions = [\"ses-1\", \"ses-2\", \"ses-3\", \"ses-4\"]\n",
    "deriv_path='/projects/niblab/bids_projects/Experiments/ChocoData/derivatives'\n",
    "SUBJECTS = sorted(glob.glob(os.path.join(deriv_path, \"sub-*\")))\n",
    "\n",
    "ses1_count = len(glob.glob(\"%s/sub-*/ses-1\"%(deriv_path)))\n",
    "ses2_count = len(glob.glob(\"%s/sub-*/ses-2\"%(deriv_path)))\n",
    "ses3_count = len(glob.glob(\"%s/sub-*/ses-3\"%(deriv_path)))\n",
    "ses4_count = len(glob.glob(\"%s/sub-*/ses-4\"%(deriv_path)))\n",
    "    \n",
    "\n",
    "# Check for error in report log\n",
    "errors = ['error', 'ERROR', 'Error']\n",
    "for ses in sessions:\n",
    "    if ses not in QA_dict:\n",
    "        QA_dict[ses] = {}\n",
    "    for error in errors:\n",
    "        error_cmd = \"grep '%s' %s/sub-*/%s/func/Analysis/feat1/task*/report_log.html\"%(error, deriv_path, ses)\n",
    "        #print(error_cmd)\n",
    "        try:\n",
    "            output = subprocess.check_output(error_cmd, shell=True)\n",
    "            # IF ERROR OUTPUT WRITE TO FILE ....\n",
    "        # IF NOTHING FOUND EXCEPT ERROR AND PASS\n",
    "        except subprocess.CalledProcessError as e:\n",
    "            if e.returncode > 1:\n",
    "                raise\n",
    "    # Check for existence of zstats \n",
    "    # Expecting 2 milkshake runs for each subject - therefore 2 zstats per subject\n",
    "    subs = sorted(glob.glob(\"%s/sub-*\"%(deriv_path)))\n",
    "    for sub_dir in subs:\n",
    "        #print(sub_dir)\n",
    "        sub_id = sub_dir.split(\"/\")[-1]\n",
    "\n",
    "        if os.path.exists(\"%s/%s\"%(sub_dir, ses)):\n",
    "            zstats = glob.glob(\"%s/%s/func/Analysis/feat1/task*/stats/zstat1.nii.gz\"%(sub_dir, ses))\n",
    "            if len(zstats) != 2:\n",
    "                if len(zstats) == 0:\n",
    "                    status = None\n",
    "                else:\n",
    "                    status = zstats\n",
    "                if sub_id not in QA_dict[ses]:\n",
    "                    QA_dict[ses][sub_id] = {\"FILES_FOUND\" : status}\n",
    "                \n",
    "\n",
    "    # -count \n",
    "missing =[]\n",
    "single_runs = []\n",
    "for ses in QA_dict:\n",
    "    for sub_id in QA_dict[ses]:\n",
    "        if QA_dict[ses][sub_id][\"FILES_FOUND\"] == None:\n",
    "            missing.append(\"%s_%s\"%(ses,sub_id))\n",
    "        else:\n",
    "            single_runs.append(\"%s_%s\"%(ses,sub_id))\n",
    "            \n",
    "print(\"Session 1 Count > \", ses1_count) \n",
    "print(\"Session 1 Count > \", ses2_count) \n",
    "print(\"Session 3 Count > \", ses3_count) \n",
    "print(\"Session 4 Count > \", ses4_count) \n",
    "\n",
    "info_dict = {\n",
    "    \"SES1_CT\": ses1_count,\n",
    "    \"SES2_CT\": ses2_count,\n",
    "    \"SES3_CT\": ses3_count,\n",
    "    \"SES4_CT\": ses4_count,\n",
    "    \"SES1_SINGLE\": [i for i in single_runs if \"ses-1\" in i],\n",
    "    \"SES2_SINGLE\": [i for i in single_runs if \"ses-2\" in i],\n",
    "    \"SES3_SINGLE\": [i for i in single_runs if \"ses-3\" in i],\n",
    "    \"SES4_SINGLE\": [i for i in single_runs if \"ses-4\" in i],\n",
    "    \"MISSING\": missing \n",
    "    \n",
    "}\n",
    "\n",
    "df = pd.DataFrame.from_dict(info_dict, orient='index')"
   ]
  },
  {
   "cell_type": "markdown",
   "metadata": {},
   "source": [
    "Session 1 Count >  115  \n",
    "Session 1 Count >  115  \n",
    "Session 3 Count >  104  \n",
    "Session 4 Count >  93   \n"
   ]
  },
  {
   "cell_type": "code",
   "execution_count": null,
   "metadata": {},
   "outputs": [],
   "source": [
    "# Session 1 subject with single run only\n",
    "df.iloc[4,0]"
   ]
  },
  {
   "cell_type": "markdown",
   "metadata": {},
   "source": [
    "['ses-1_sub-015',\n",
    " 'ses-1_sub-032',\n",
    " 'ses-1_sub-033',\n",
    " 'ses-1_sub-059',\n",
    " 'ses-1_sub-081',\n",
    " 'ses-1_sub-088']"
   ]
  },
  {
   "cell_type": "code",
   "execution_count": null,
   "metadata": {},
   "outputs": [],
   "source": [
    "# Session 2 subject with single run only\n",
    "df.iloc[5,0]"
   ]
  },
  {
   "cell_type": "markdown",
   "metadata": {},
   "source": [
    "['ses-2_sub-045',\n",
    " 'ses-2_sub-078',\n",
    " 'ses-2_sub-081',\n",
    " 'ses-2_sub-088',\n",
    " 'ses-2_sub-151',\n",
    " 'ses-2_sub-152']"
   ]
  },
  {
   "cell_type": "code",
   "execution_count": null,
   "metadata": {},
   "outputs": [],
   "source": [
    "# Session 3 subject with single run only\n",
    "df.iloc[6,0]"
   ]
  },
  {
   "cell_type": "markdown",
   "metadata": {},
   "source": [
    "['ses-3_sub-013',\n",
    " 'ses-3_sub-032',\n",
    " 'ses-3_sub-048',\n",
    " 'ses-3_sub-094',\n",
    " 'ses-3_sub-097',\n",
    " 'ses-3_sub-118',\n",
    " 'ses-3_sub-132']"
   ]
  },
  {
   "cell_type": "code",
   "execution_count": null,
   "metadata": {},
   "outputs": [],
   "source": [
    "# Session 4 subject with single run only\n",
    "df.iloc[7,0]"
   ]
  },
  {
   "cell_type": "markdown",
   "metadata": {},
   "source": [
    " ['ses-4_sub-092', 'ses-4_sub-101', 'ses-4_sub-103', 'ses-4_sub-120']"
   ]
  },
  {
   "cell_type": "code",
   "execution_count": null,
   "metadata": {},
   "outputs": [],
   "source": []
  },
  {
   "cell_type": "code",
   "execution_count": null,
   "metadata": {},
   "outputs": [],
   "source": []
  },
  {
   "cell_type": "markdown",
   "metadata": {},
   "source": [
    "#### Make HTML file"
   ]
  },
  {
   "cell_type": "code",
   "execution_count": null,
   "metadata": {},
   "outputs": [],
   "source": [
    "# Code below extended from Jeannette Mumford Brain stats - \n",
    "import os\n",
    "import glob\n",
    "import pdfkit\n",
    "import pandas as pd\n",
    "# We will start with the registration png files\n",
    "outfile = \"/projects/niblab/bids_projects/Experiments/ChocoData/derivatives/feat1_ana.html\"\n",
    "#os.system(\"rm %s\"%(outfile))\n",
    " \n",
    "sessions = [\"ses-1\", \"ses-2\", \"ses-3\", \"ses-4\"]\n",
    "dataframes = []\n",
    "\n",
    "#f = open(outfile, \"w\")\n",
    "for ses in sessions:\n",
    "    all_feats = glob.glob('/projects/niblab/bids_projects/Experiments/ChocoData/derivatives/sub-*/%s/func/Analysis/feat1/task*'%ses)\n",
    "    ses_dict = {}\n",
    "    \n",
    "    for file in list(all_feats):\n",
    "        subject = file.split(\"/\")[7]\n",
    "        milk_id = file.split(\"/\")[-1].split(\".\")[0].split(\"-\")[1]\n",
    "        filename = \"%s_%s\"%(subject, milk_id)\n",
    "        if subject not in ses_dict:\n",
    "            ses_dict[subject] = {}\n",
    "        \n",
    "\n",
    "        design_img = \"%s/design.png\"%(file)\n",
    "        design_cov_img = \"%s/design_cov.png\"%(file)\n",
    "        func2highres_img =  \"%s/reg/example_func2highres.png\"%(file)\n",
    "        func2standard_img = \"%s/reg/example_func2standard.png\"%(file)\n",
    "        highres2standard_img = \"%s/reg/highres2standard.png\"%(file)\n",
    "        if os.path.exists(design_img) and milk_id not in ses_dict[subject]:\n",
    "            ses_dict[subject][milk_id] = [design_img, design_cov_img, func2highres_img, func2standard_img, highres2standard_img]\n",
    "            \n",
    "        \n",
    "        df = pd.DataFrame.from_dict({(i,j): ses_dict[i][j] \n",
    "                           for i in ses_dict.keys() \n",
    "                           for j in ses_dict[i].keys()},\n",
    "                       orient='index')\n",
    "        data_frames.append({'df':df})\n",
    "    #os.system(\"cp %s/design.png files/%s_design.png\"%(file, filename ))\n",
    "    #os.system(\"cp %s/design_cov.png files/%s_design.png\"%(file, filename))\n",
    "    #os.system(\"cp %s/reg/example_func2highres.png files/%s_design.png\"%(file, filename))\n",
    "    #os.system(\"cp %s/reg/example_func2standard.png files/%s_design.png\"%(file, filename))\n",
    "    #os.system(\"cp %s/reg/highres2standard.png files/%s_design.png\"%(file, filename))\n",
    "    \n",
    "\n",
    "    ## Building a PDF \n",
    "    # Create a Document \n",
    "    const PDFDocument = req\n",
    "    const file_bio = \"Subject: %s | Run: %s  \\n\"%(subject, milk_id)\n",
    "    \n",
    "    \n",
    "f.close()"
   ]
  },
  {
   "cell_type": "markdown",
   "metadata": {},
   "source": [
    "Regressor looks like waant.  \n",
    "Flat regressor - mispecified the TR length/something wrong with offset file \n",
    "Colinearity pics:  \n",
    "topleft check for pairwise colinearity  \n",
    "Registration summary:  \n",
    "Top : bold(brain) outline(MNI) | Bottom : vice versa .   \n",
    "Bold to subject structural, subject structural to MNI template  \n"
   ]
  },
  {
   "cell_type": "markdown",
   "metadata": {},
   "source": [
    "Reference:\n",
    "- https://www.dropbox.com/s/rzcqb3nwvc01o1e/4_QA_all_lev1s.py?dl=0\n",
    "- https://www.youtube.com/watch?v=kW1xgGs4NUU&list=PLB2iAtgpI4YHlH4sno3i3CUjCofI38a-3&index=13"
   ]
  },
  {
   "cell_type": "code",
   "execution_count": null,
   "metadata": {},
   "outputs": [],
   "source": []
  }
 ],
 "metadata": {
  "kernelspec": {
   "display_name": "Python 3",
   "language": "python",
   "name": "python3"
  },
  "language_info": {
   "codemirror_mode": {
    "name": "ipython",
    "version": 3
   },
   "file_extension": ".py",
   "mimetype": "text/x-python",
   "name": "python",
   "nbconvert_exporter": "python",
   "pygments_lexer": "ipython3",
   "version": "3.6.7"
  }
 },
 "nbformat": 4,
 "nbformat_minor": 2
}
