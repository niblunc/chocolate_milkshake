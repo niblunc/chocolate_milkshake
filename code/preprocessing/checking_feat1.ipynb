{
 "cells": [
  {
   "cell_type": "code",
   "execution_count": 1,
   "metadata": {},
   "outputs": [],
   "source": [
    "import glob, os\n",
    "from subprocess import check_output\n",
    "import pandas as pd "
   ]
  },
  {
   "cell_type": "code",
   "execution_count": null,
   "metadata": {},
   "outputs": [],
   "source": [
    "def make_dict(sess):\n",
    "    total_dict[sess] = {\n",
    "        \"TOTAL_SUB_COUNT\" : 0,\n",
    "        \"TOTAL_BAD_VOLS\" : 0,\n",
    "        \"TOTAL_GOOD_VOLS\" : 0\n",
    "    }\n",
    "    "
   ]
  },
  {
   "cell_type": "code",
   "execution_count": null,
   "metadata": {},
   "outputs": [],
   "source": [
    "DERIV_DIR = '/projects/niblab/bids_projects/Experiments/ChocoData/derivatives'\n",
    "total_dict = {}\n"
   ]
  },
  {
   "cell_type": "code",
   "execution_count": null,
   "metadata": {},
   "outputs": [],
   "source": [
    "SESS = \"ses-4\"\n",
    "SUBJECTS=glob.glob(os.path.join(DERIV_DIR, \"sub-*\", SESS))\n",
    " \n",
    "make_dict(SESS)\n",
    "for sub_dir in sorted(SUBJECTS):\n",
    "    task_dirs = glob.glob(os.path.join(sub_dir, \"func/Analysis/feat1/*\" ))\n",
    "    for dir_ in task_dirs:\n",
    "        dir_nifti_contents=glob.glob(os.path.join(dir_, \"*nii.gz\"))\n",
    "        if dir_+\"/filtered_func_data.nii.gz\" in dir_nifti_contents:\n",
    "            pass\n",
    "        else:\n",
    "            print(\"***bad run >>>----> \", dir_)\n",
    "            \n",
    "feat_dirs = glob.glob('/projects/niblab/bids_projects/Experiments/ChocoData/derivatives/sub-*/ses-4/func/Analysis/feat1')\n",
    "task_dirs = glob.glob('/projects/niblab/bids_projects/Experiments/ChocoData/derivatives/sub-*/ses-4/func/Analysis/feat1/task*')\n",
    "TOTAL_SUB_COUNT = len(SUBJECTS)\n",
    "TOTAL_FEAT_COUNT = len(feat_dirs)\n",
    "TOTAL_TASK_DIRS = len(task_dirs)\n",
    "\n",
    "total_dict[SESS][\"TOTAL_SUB_COUNT\"] = TOTAL_SUB_COUNT\n",
    "\n",
    "\n",
    "func_files=sorted(glob.glob(os.path.join(DERIV_DIR, \"sub-*\", SESS, \"func/Analysis/feat1/task*/filtered_func_data.nii.gz\")))\n",
    "fileout=open(\"/projects/niblab/bids_projects/Experiments/ChocoData/error_files/w2_milkshake_bad_volumes.txt\", \"a\")\n",
    "bad_vols = 0\n",
    "good_vols = 0\n",
    "for f in func_files:\n",
    "    vol = check_output(['fslnvols', f])\n",
    "    vol = int(vol.decode(\"utf-8\"))\n",
    "    if vol != 445:\n",
    "        bad_vols = bad_vols + 1\n",
    "        print(\"BADDIE\")\n",
    "        for x in f.split(\"/\"):\n",
    "            if \".feat\" in x:\n",
    "                fileout.write(x +\"\\t\"+ str(vol) +\"\\n\")\n",
    "    else:\n",
    "        good_vols = good_vols + 1\n",
    "fileout.close()\n",
    "#print(bad_vols, good_vols)\n",
    "\n",
    "total_dict[SESS][\"TOTAL_BAD_VOLS\"] = bad_vols\n",
    "total_dict[SESS][\"TOTAL_GOOD_VOLS\"] = good_vols\n"
   ]
  }
 ],
 "metadata": {
  "kernelspec": {
   "display_name": "Python 3",
   "language": "python",
   "name": "python3"
  },
  "language_info": {
   "codemirror_mode": {
    "name": "ipython",
    "version": 3
   },
   "file_extension": ".py",
   "mimetype": "text/x-python",
   "name": "python",
   "nbconvert_exporter": "python",
   "pygments_lexer": "ipython3",
   "version": "3.6.7"
  }
 },
 "nbformat": 4,
 "nbformat_minor": 2
}
