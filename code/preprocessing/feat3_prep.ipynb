{
 "cells": [
  {
   "cell_type": "code",
   "execution_count": 1,
   "metadata": {},
   "outputs": [
    {
     "name": "stdout",
     "output_type": "stream",
     "text": [
      "> Session: ses-1\n",
      "> Total subject count: 0\n",
      "> Total feat2 sub count: 0\n",
      "> Session: ses-2\n",
      "> Total subject count: 0\n",
      "> Total feat2 sub count: 0\n",
      "> Session: ses-3\n",
      "> Total subject count: 0\n",
      "> Total feat2 sub count: 0\n",
      "> Session: ses-4\n",
      "> Total subject count: 0\n",
      "> Total feat2 sub count: 0\n"
     ]
    }
   ],
   "source": [
    "# Code below extended from Jeannette Mumford Brain stats - \n",
    "import os\n",
    "import glob\n",
    "import pandas as pd\n",
    "\n",
    " \n",
    "path = '/projects/niblab/bids_projects/Experiments/ChocoData/derivatives/sub-*/'\n",
    "sessions = [\"ses-1\", \"ses-2\", \"ses-3\", \"ses-4\"]\n",
    "\n",
    "for ses in sessions:\n",
    "    ses_dict = {}\n",
    "    bad_subjects = []\n",
    "    \n",
    "    sub_count = len(glob.glob('/projects/niblab/bids_projects/Experiments/ChocoData/derivatives/sub-*/%s'%ses))\n",
    "    feat2_count = len(glob.glob('/projects/niblab/bids_projects/Experiments/ChocoData/derivatives/sub-*/%s/func/Analysis/feat2/sub-*.gfeat'%ses))\n",
    "    print(\"> Session: %s\"%ses)\n",
    "    print(\"> Total subject count: %s\"%sub_count)\n",
    "    print(\"> Total feat2 sub count: %s\"%feat2_count)\n",
    "    \n",
    "    subjs = glob.glob('/projects/niblab/bids_projects/Experiments/ChocoData/derivatives/sub-*/%s'%ses)\n",
    "    for sub in subjs:\n",
    "        task_dirs = glob.glob(os.path.join(sub, \"func/Analysis/feat1/task*\"))\n",
    "        if len(task_dirs) != 2:\n",
    "            bad_subjects.append((sub.split(\"/\")[-2]))\n",
    "            \n",
    "            \n",
    "    print(\"> Subjects with only 1 run: %s\"%bad_subjects)\n",
    "\n",
    "    "
   ]
  },
  {
   "cell_type": "markdown",
   "metadata": {},
   "source": [
    "> Total subject count: 115  \n",
    "> Total feat2 sub count: 112  \n",
    "sub-033  \n",
    "sub-059  \n",
    "sub-015  \n",
    "> Total subject count: 115  \n",
    "> Total feat2 sub count: 114  \n",
    "sub-045  \n",
    "> Total subject count: 104  \n",
    "> Total feat2 sub count: 103  \n",
    "sub-048  \n",
    "> Total subject count: 93  \n",
    "> Total feat2 sub count: 91  \n",
    "sub-092  \n",
    "sub-120  "
   ]
  },
  {
   "cell_type": "code",
   "execution_count": null,
   "metadata": {},
   "outputs": [],
   "source": []
  }
 ],
 "metadata": {
  "kernelspec": {
   "display_name": "Python 3",
   "language": "python",
   "name": "python3"
  },
  "language_info": {
   "codemirror_mode": {
    "name": "ipython",
    "version": 3
   },
   "file_extension": ".py",
   "mimetype": "text/x-python",
   "name": "python",
   "nbconvert_exporter": "python",
   "pygments_lexer": "ipython3",
   "version": "3.6.7"
  }
 },
 "nbformat": 4,
 "nbformat_minor": 2
}
