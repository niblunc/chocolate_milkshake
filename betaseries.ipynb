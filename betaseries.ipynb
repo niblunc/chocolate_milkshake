{
 "cells": [
  {
   "cell_type": "markdown",
   "metadata": {},
   "source": [
    "# Chocolate Milkshake Betaseries Analysis"
   ]
  },
  {
   "cell_type": "markdown",
   "metadata": {},
   "source": [
    "## Betaseries "
   ]
  },
  {
   "cell_type": "code",
   "execution_count": 45,
   "metadata": {},
   "outputs": [],
   "source": [
    "import glob\n",
    "import os\n",
    "import pandas as pd\n",
    "from os import listdir\n",
    "from shutil import rmtree\n",
    "from subprocess import check_output\n",
    "import argparse\n",
    "import subprocess\n",
    "import re"
   ]
  },
  {
   "cell_type": "markdown",
   "metadata": {},
   "source": [
    "## Setup feat files"
   ]
  },
  {
   "cell_type": "code",
   "execution_count": 2,
   "metadata": {},
   "outputs": [],
   "source": [
    "def make_file(sub_id, ses_id, trial_id, output_dir, task,data_dict):\n",
    "    with open(os.path.join('/projects/niblab/experiments/chocolate_milkshake/data/code/beta_design.fsf'),'r') as infile:\n",
    "        tempfsf=infile.read()\n",
    "        #\n",
    "        if not os.path.exists(os.path.join(output_dir, \"design_files\")):\n",
    "            os.makedirs(os.path.join(output_dir, \"design_files\"))\n",
    "        #print(output_dir)\n",
    "        design_fileout = os.path.join(output_dir, \"design_files/%s_%s_%s_feat1.fsf\"%(sub_id, ses_id, trial_id))\n",
    "        out_param = data_dict[sub_id][task][\"TRIALS\"][\"TRIAL%s\"%trial_id][\"OUTPUT\"]\n",
    "        func_param = data_dict[sub_id][task][\"FUNCRUN\"]\n",
    "        confound_param = data_dict[sub_id][task][\"CONFOUND\"]\n",
    "        trial_param = data_dict[sub_id][task][\"TRIALS\"][\"TRIAL%s\"%trial_id][\"TRIAL\"]\n",
    "        nuis_param = data_dict[sub_id][task][\"TRIALS\"][\"TRIAL%s\"%trial_id][\"NUIS\"]\n",
    "\n",
    "        tempfsf = tempfsf.replace(\"OUTPUT\", out_param)\n",
    "        tempfsf = tempfsf.replace(\"FUNCRUN\", func_param) \n",
    "        tempfsf = tempfsf.replace(\"CONFOUND\", confound_param)\n",
    "        tempfsf = tempfsf.replace(\"TRIAL\", trial_param)\n",
    "        tempfsf = tempfsf.replace(\"NUIS\", nuis_param)\n",
    "\n",
    "        for i in range(6):\n",
    "            moco = data_dict[sub_id][task][\"MOCO%i\"%i]\n",
    "            tempfsf = tempfsf.replace(\"MOCO%i\"%i, moco)\n",
    "        try:\n",
    "            with open(design_fileout,'w') as outfile:\n",
    "                outfile.write(tempfsf)\n",
    "            outfile.close()\n",
    "        except:\n",
    "            print(\"BAD SUBJECT \", sub_id)\n",
    "        infile.close()\n",
    "        \n",
    "        "
   ]
  },
  {
   "cell_type": "code",
   "execution_count": 3,
   "metadata": {},
   "outputs": [],
   "source": [
    "def create_fsf(input_dir, deriv_dir, ses_id):\n",
    "    \n",
    "    ses_id=ses_id\n",
    "    data_dict= {}\n",
    "    # start loop -- looping through subjects\n",
    "    subject_list = glob.glob(os.path.join('/projects/niblab/bids_projects/Experiments/ChocoData/derivatives', 'sub-*/%s'%ses_id))\n",
    "    for sub_path in subject_list:\n",
    "        sub_id=sub_path.split(\"/\")[-2]\n",
    "        \n",
    "        functional_tasks = glob.glob(os.path.join(sub_path, 'func/*milkshake*preproc_brain.nii.gz'))\n",
    "        if sub_id not in data_dict:\n",
    "            data_dict[sub_id] = {}\n",
    "                \n",
    "        \n",
    "        for functional in functional_tasks: # SECOND LOOP -- looping through RUNS\n",
    "            task=functional.split(\"/\")[-1].split(\"_\")[2].split(\"-\")[1]\n",
    "            analysis_folder=os.path.join('/projects/niblab/experiments/chocolate_milkshake/bids/derivatives/preprocessed/%s/%s'%(sub_id,ses_id), \"analysis\")\n",
    "            #print(analysis_folder)\n",
    "            output_dir = os.path.join(analysis_folder, 'beta/task-%s'%task)\n",
    "            \n",
    "            if not os.path.exists(output_dir):\n",
    "                os.makedirs(output_dir)\n",
    "            \n",
    "            confound_file = os.path.join(sub_path, \"func/motion_assessment/%s_%s_task-%s_bold_space-MNI152NLin2009cAsym_preproc_brain_confound.txt\"%(sub_id,ses_id, task))\n",
    "                \n",
    "            data_dict[sub_id][task] = {\n",
    "                \"TRIALS\" : { },\n",
    "                \"CONFOUND\" : confound_file,\n",
    "                \"FUNCRUN\" : functional\n",
    "              }           \n",
    "            \n",
    "            for i in range(6):\n",
    "                motcor=os.path.join(sub_path, 'func','motion_assessment', 'motion_parameters','%s_%s_task-%s_moco%s.txt'%(sub_id,ses_id, task,i))\n",
    "                data_dict[sub_id][task]['MOCO%i'%i] = motcor\n",
    "            \n",
    "            \n",
    "            subj_trials = sorted(glob.glob('/projects/niblab/experiments/chocolate_milkshake/data/evs/%s*trial*.txt'%task.replace('milkshake', 'mk')))\n",
    "            \n",
    "            if not subj_trials:\n",
    "                pass\n",
    "            else:\n",
    "                for trial_file in subj_trials:\n",
    "                    _id = sub_id.split(\"-\")[1]\n",
    "                    _id = _id[1:]\n",
    "                    trial_id = trial_file.split(\"/\")[-1].split(\".\")[0]\n",
    "                    #print(trial_id)\n",
    "                    nuis_file = os.path.join('/projects/niblab/experiments/chocolate_milkshake/data/evs', '%s.txt'%trial_id.replace('trial', 'nuis'))\n",
    "                    #print(nuis_file)\n",
    "                    fileout = os.path.join(output_dir, \"%s_%s_%s\"%(sub_id, ses_id,trial_id))\n",
    "                    #print(fileout)\n",
    "                    data_dict[sub_id][task][\"TRIALS\"][\"TRIAL%s\"%trial_id] = {\"TRIAL\" : trial_file, \"NUIS\": nuis_file, \"OUTPUT\" : fileout}\n",
    "                    make_file(sub_id, ses_id, trial_id,output_dir, task, data_dict)\n",
    "                    \n",
    "                    \n",
    "    return(data_dict)"
   ]
  },
  {
   "cell_type": "code",
   "execution_count": 4,
   "metadata": {},
   "outputs": [],
   "source": [
    "def set_paths():\n",
    "    #global input_dir\n",
    "    #global deriv_dir\n",
    "    print(\"[INFO] setting directory paths\")\n",
    "    input_dir =  '/projects/niblab/experiments/chocolate_milkshake'\n",
    "        \n",
    "    deriv_dir= os.path.join(input_dir, 'bids/derivatives')\n",
    "\n",
    "    return input_dir, deriv_dir\n",
    "\n"
   ]
  },
  {
   "cell_type": "code",
   "execution_count": 5,
   "metadata": {},
   "outputs": [
    {
     "name": "stdout",
     "output_type": "stream",
     "text": [
      "[INFO] setting directory paths\n"
     ]
    }
   ],
   "source": [
    "def main():\n",
    "    ses_id='ses-1'\n",
    "    input_dir, deriv_dir=set_paths()\n",
    "    data_dict=create_fsf(input_dir, deriv_dir,ses_id)\n",
    "    \n",
    "main()\n"
   ]
  },
  {
   "cell_type": "markdown",
   "metadata": {},
   "source": [
    "## Run slurm jobs"
   ]
  },
  {
   "cell_type": "code",
   "execution_count": 6,
   "metadata": {},
   "outputs": [],
   "source": [
    "def run_slurm(subject_list):\n",
    "    for subj in subject_list[:1]:\n",
    "        #print(subj)\n",
    "        slurm_cmd= \"sbatch --array={}%1 /projects/niblab/experiments/chocolate_milkshake/data/code/beta_run.job {}\".format(subj,'receipt')\n",
    "        print(slurm_cmd)\n",
    "        #os.system(slurm_cmd)"
   ]
  },
  {
   "cell_type": "code",
   "execution_count": 7,
   "metadata": {},
   "outputs": [],
   "source": [
    "def by_file_slurm(subject):\n",
    "    fsfs=glob.glob(os.path.join('/projects/niblab/experiments/chocolate_milkshake/bids/derivatives/preprocessed/{}/ses-1/analysis/beta/task*C/design_files/*receipt_*.fsf'.format(subject)))\n",
    "    for fsf in fsfs[1:]:\n",
    "        slurm_cmd = \"sbatch /projects/niblab/experiments/chocolate_milkshake/data/code/beta_by_file.job {}\".format(fsf)\n",
    "        print('[INFO] submitted: \\n', slurm_cmd)\n",
    "        #os.system(slurm_cmd)\n",
    "    \n",
    "        "
   ]
  },
  {
   "cell_type": "markdown",
   "metadata": {},
   "source": [
    "Submit slurm files in a loop: "
   ]
  },
  {
   "cell_type": "code",
   "execution_count": 26,
   "metadata": {},
   "outputs": [
    {
     "name": "stdout",
     "output_type": "stream",
     "text": [
      "sbatch --array=1%1 /projects/niblab/experiments/chocolate_milkshake/data/code/beta_run.job receipt\n"
     ]
    }
   ],
   "source": [
    "subject_list =  [x.split(\"/\")[-2].split(\"-\")[1].strip('0') for x in glob.glob(os.path.join('/projects/niblab/bids_projects/Experiments/ChocoData/derivatives', 'sub-*/ses-1'))]\n",
    "run_slurm(subject_list)"
   ]
  },
  {
   "cell_type": "markdown",
   "metadata": {},
   "source": [
    "Submit slurm jobs by running fsf files individually:"
   ]
  },
  {
   "cell_type": "code",
   "execution_count": 31,
   "metadata": {},
   "outputs": [
    {
     "name": "stdout",
     "output_type": "stream",
     "text": [
      "sub-015\n",
      "[INFO] submitted: \n",
      " sbatch /projects/niblab/experiments/chocolate_milkshake/data/code/beta_by_file.job /projects/niblab/experiments/chocolate_milkshake/bids/derivatives/preprocessed/sub-015/ses-1/analysis/beta/task-milkshakeC/design_files/sub-015_ses-1_mkC_HF_HS_receipt_trial2_feat1.fsf\n",
      "[INFO] submitted: \n",
      " sbatch /projects/niblab/experiments/chocolate_milkshake/data/code/beta_by_file.job /projects/niblab/experiments/chocolate_milkshake/bids/derivatives/preprocessed/sub-015/ses-1/analysis/beta/task-milkshakeC/design_files/sub-015_ses-1_mkC_HF_HS_receipt_trial3_feat1.fsf\n",
      "[INFO] submitted: \n",
      " sbatch /projects/niblab/experiments/chocolate_milkshake/data/code/beta_by_file.job /projects/niblab/experiments/chocolate_milkshake/bids/derivatives/preprocessed/sub-015/ses-1/analysis/beta/task-milkshakeC/design_files/sub-015_ses-1_mkC_HF_LS_receipt_trial1_feat1.fsf\n",
      "[INFO] submitted: \n",
      " sbatch /projects/niblab/experiments/chocolate_milkshake/data/code/beta_by_file.job /projects/niblab/experiments/chocolate_milkshake/bids/derivatives/preprocessed/sub-015/ses-1/analysis/beta/task-milkshakeC/design_files/sub-015_ses-1_mkC_HF_LS_receipt_trial2_feat1.fsf\n",
      "[INFO] submitted: \n",
      " sbatch /projects/niblab/experiments/chocolate_milkshake/data/code/beta_by_file.job /projects/niblab/experiments/chocolate_milkshake/bids/derivatives/preprocessed/sub-015/ses-1/analysis/beta/task-milkshakeC/design_files/sub-015_ses-1_mkC_HF_LS_receipt_trial3_feat1.fsf\n",
      "[INFO] submitted: \n",
      " sbatch /projects/niblab/experiments/chocolate_milkshake/data/code/beta_by_file.job /projects/niblab/experiments/chocolate_milkshake/bids/derivatives/preprocessed/sub-015/ses-1/analysis/beta/task-milkshakeC/design_files/sub-015_ses-1_mkC_LF_HS_receipt_trial1_feat1.fsf\n",
      "[INFO] submitted: \n",
      " sbatch /projects/niblab/experiments/chocolate_milkshake/data/code/beta_by_file.job /projects/niblab/experiments/chocolate_milkshake/bids/derivatives/preprocessed/sub-015/ses-1/analysis/beta/task-milkshakeC/design_files/sub-015_ses-1_mkC_LF_HS_receipt_trial2_feat1.fsf\n",
      "[INFO] submitted: \n",
      " sbatch /projects/niblab/experiments/chocolate_milkshake/data/code/beta_by_file.job /projects/niblab/experiments/chocolate_milkshake/bids/derivatives/preprocessed/sub-015/ses-1/analysis/beta/task-milkshakeC/design_files/sub-015_ses-1_mkC_LF_HS_receipt_trial3_feat1.fsf\n",
      "[INFO] submitted: \n",
      " sbatch /projects/niblab/experiments/chocolate_milkshake/data/code/beta_by_file.job /projects/niblab/experiments/chocolate_milkshake/bids/derivatives/preprocessed/sub-015/ses-1/analysis/beta/task-milkshakeC/design_files/sub-015_ses-1_mkC_LF_LS_receipt_trial1_feat1.fsf\n",
      "[INFO] submitted: \n",
      " sbatch /projects/niblab/experiments/chocolate_milkshake/data/code/beta_by_file.job /projects/niblab/experiments/chocolate_milkshake/bids/derivatives/preprocessed/sub-015/ses-1/analysis/beta/task-milkshakeC/design_files/sub-015_ses-1_mkC_LF_LS_receipt_trial2_feat1.fsf\n",
      "[INFO] submitted: \n",
      " sbatch /projects/niblab/experiments/chocolate_milkshake/data/code/beta_by_file.job /projects/niblab/experiments/chocolate_milkshake/bids/derivatives/preprocessed/sub-015/ses-1/analysis/beta/task-milkshakeC/design_files/sub-015_ses-1_mkC_LF_LS_receipt_trial3_feat1.fsf\n",
      "[INFO] submitted: \n",
      " sbatch /projects/niblab/experiments/chocolate_milkshake/data/code/beta_by_file.job /projects/niblab/experiments/chocolate_milkshake/bids/derivatives/preprocessed/sub-015/ses-1/analysis/beta/task-milkshakeC/design_files/sub-015_ses-1_mkC_h20_receipt_trial1_feat1.fsf\n",
      "[INFO] submitted: \n",
      " sbatch /projects/niblab/experiments/chocolate_milkshake/data/code/beta_by_file.job /projects/niblab/experiments/chocolate_milkshake/bids/derivatives/preprocessed/sub-015/ses-1/analysis/beta/task-milkshakeC/design_files/sub-015_ses-1_mkC_h20_receipt_trial2_feat1.fsf\n",
      "[INFO] submitted: \n",
      " sbatch /projects/niblab/experiments/chocolate_milkshake/data/code/beta_by_file.job /projects/niblab/experiments/chocolate_milkshake/bids/derivatives/preprocessed/sub-015/ses-1/analysis/beta/task-milkshakeC/design_files/sub-015_ses-1_mkC_h20_receipt_trial3_feat1.fsf\n"
     ]
    }
   ],
   "source": [
    "sub_ids=[x.split('/')[-2] for x in glob.glob('/projects/niblab/experiments/chocolate_milkshake/bids/derivatives/preprocessed/sub-015/ses-1')]\n",
    "for subject in sub_ids:\n",
    "    print(subject)\n",
    "    by_file_slurm(subject)\n",
    "    \n",
    "    "
   ]
  },
  {
   "cell_type": "markdown",
   "metadata": {},
   "source": [
    "View your job queue:"
   ]
  },
  {
   "cell_type": "code",
   "execution_count": 33,
   "metadata": {},
   "outputs": [
    {
     "name": "stdout",
     "output_type": "stream",
     "text": [
      "             JOBID PARTITION     NAME     USER ST       TIME  NODES NODELIST(REASON)\r\n"
     ]
    }
   ],
   "source": [
    "!squeue -u nbytes"
   ]
  },
  {
   "cell_type": "markdown",
   "metadata": {},
   "source": [
    "## Quality Analysis\n"
   ]
  },
  {
   "cell_type": "code",
   "execution_count": 2,
   "metadata": {},
   "outputs": [],
   "source": [
    "def quality_check():\n",
    "    data_dict={}\n",
    "    ses1_subjects=glob.glob(os.path.join(\"/projects/niblab/experiments/chocolate_milkshake/bids/derivatives/preprocessed/sub-*/ses-1\"))\n",
    "    for subj_folder in ses1_subjects:\n",
    "        subject=subj_folder.split(\"/\")[-2]\n",
    "        if subject not in data_dict:\n",
    "            data_dict[subject] = []\n",
    "            \n",
    "        feats=glob.glob(os.path.join(subj_folder, 'analysis/beta/task*/*.feat/'))\n",
    "        if not feats:\n",
    "            #print(\"[INFO] nothing found for %s\"%subject)\n",
    "            data_dict[subject] = \"MISSING\"\n",
    "        else:\n",
    "            for feat in feats:\n",
    "                #print(feat)\n",
    "                stats_folder=os.path.join(feat, \"stats\")\n",
    "                #print(stats_folder)\n",
    "                if not os.path.exists(stats_folder):\n",
    "                    print(listdir(feat))\n",
    "                    print(feat)#.split(\"/\")[-1])\n",
    "                    #data_dict[subject].append(feat)\n",
    "                    # remove folder if its bad/ no stats folder\n",
    "                    #rmtree(feat)\n",
    "                    \n",
    "                else:\n",
    "                    pass\n",
    "                    #print(\"[INFO] passed\")\n",
    "                    #data_dict[subject]['good'].append(feat.split('/')[-2])\n",
    "    #print(data_dict)\n",
    "                    \n",
    "                    "
   ]
  },
  {
   "cell_type": "code",
   "execution_count": 3,
   "metadata": {},
   "outputs": [
    {
     "name": "stdout",
     "output_type": "stream",
     "text": [
      "['logs', 'report_log.html', 'design.fsf']\n",
      "/projects/niblab/experiments/chocolate_milkshake/bids/derivatives/preprocessed/sub-033/ses-1/analysis/beta/task-milkshakeC/sub-033_ses-1_mkC_HF_LS_receipt_trial1.feat/\n",
      "['logs', 'report_log.html', 'design.fsf']\n",
      "/projects/niblab/experiments/chocolate_milkshake/bids/derivatives/preprocessed/sub-033/ses-1/analysis/beta/task-milkshakeC/sub-033_ses-1_mkC_HF_LS_receipt_trial2.feat/\n",
      "['logs', 'report_log.html', 'design.fsf']\n",
      "/projects/niblab/experiments/chocolate_milkshake/bids/derivatives/preprocessed/sub-033/ses-1/analysis/beta/task-milkshakeC/sub-033_ses-1_mkC_HF_HS_receipt_trial3.feat/\n",
      "['logs', 'report_log.html', 'design.fsf']\n",
      "/projects/niblab/experiments/chocolate_milkshake/bids/derivatives/preprocessed/sub-033/ses-1/analysis/beta/task-milkshakeC/sub-033_ses-1_mkC_HF_HS_receipt_trial2.feat/\n",
      "['logs', 'report_log.html', 'design.fsf']\n",
      "/projects/niblab/experiments/chocolate_milkshake/bids/derivatives/preprocessed/sub-033/ses-1/analysis/beta/task-milkshakeC/sub-033_ses-1_mkC_LF_HS_receipt_trial2.feat/\n",
      "['logs', 'report_log.html', 'design.fsf']\n",
      "/projects/niblab/experiments/chocolate_milkshake/bids/derivatives/preprocessed/sub-033/ses-1/analysis/beta/task-milkshakeC/sub-033_ses-1_mkC_HF_LS_receipt_trial3.feat/\n",
      "['logs', 'report_log.html', 'design.fsf']\n",
      "/projects/niblab/experiments/chocolate_milkshake/bids/derivatives/preprocessed/sub-033/ses-1/analysis/beta/task-milkshakeC/sub-033_ses-1_mkC_LF_HS_receipt_trial3.feat/\n",
      "['logs', 'report_log.html', 'design.fsf']\n",
      "/projects/niblab/experiments/chocolate_milkshake/bids/derivatives/preprocessed/sub-033/ses-1/analysis/beta/task-milkshakeC/sub-033_ses-1_mkC_LF_HS_receipt_trial1.feat/\n",
      "['logs', 'report_log.html', 'design.fsf']\n",
      "/projects/niblab/experiments/chocolate_milkshake/bids/derivatives/preprocessed/sub-033/ses-1/analysis/beta/task-milkshakeC/sub-033_ses-1_mkC_LF_LS_receipt_trial1.feat/\n",
      "['logs', 'report_log.html', 'design.fsf']\n",
      "/projects/niblab/experiments/chocolate_milkshake/bids/derivatives/preprocessed/sub-033/ses-1/analysis/beta/task-milkshakeC/sub-033_ses-1_mkC_h20_receipt_trial1.feat/\n",
      "['logs', 'report_log.html', 'design.fsf']\n",
      "/projects/niblab/experiments/chocolate_milkshake/bids/derivatives/preprocessed/sub-033/ses-1/analysis/beta/task-milkshakeC/sub-033_ses-1_mkC_LF_LS_receipt_trial2.feat/\n",
      "['logs', 'report_log.html', 'design.fsf']\n",
      "/projects/niblab/experiments/chocolate_milkshake/bids/derivatives/preprocessed/sub-033/ses-1/analysis/beta/task-milkshakeC/sub-033_ses-1_mkC_h20_receipt_trial2.feat/\n",
      "['logs', 'report_log.html', 'design.fsf']\n",
      "/projects/niblab/experiments/chocolate_milkshake/bids/derivatives/preprocessed/sub-033/ses-1/analysis/beta/task-milkshakeC/sub-033_ses-1_mkC_LF_LS_receipt_trial3.feat/\n",
      "['logs', 'report_log.html', 'design.fsf']\n",
      "/projects/niblab/experiments/chocolate_milkshake/bids/derivatives/preprocessed/sub-033/ses-1/analysis/beta/task-milkshakeC/sub-033_ses-1_mkC_h20_receipt_trial3.feat/\n",
      "['logs', 'report_log.html', 'design.fsf']\n",
      "/projects/niblab/experiments/chocolate_milkshake/bids/derivatives/preprocessed/sub-033/ses-1/analysis/beta/task-milkshakeC/sub-033_ses-1_mkC_HF_HS_receipt_trial2+.feat/\n",
      "['logs', 'report_log.html', 'design.fsf']\n",
      "/projects/niblab/experiments/chocolate_milkshake/bids/derivatives/preprocessed/sub-015/ses-1/analysis/beta/task-milkshakeC/sub-015_ses-1_mkC_HF_LS_receipt_trial2.feat/\n",
      "['logs', 'report_log.html', 'design.fsf']\n",
      "/projects/niblab/experiments/chocolate_milkshake/bids/derivatives/preprocessed/sub-015/ses-1/analysis/beta/task-milkshakeC/sub-015_ses-1_mkC_HF_HS_receipt_trial3.feat/\n",
      "['logs', 'report_log.html', 'design.fsf']\n",
      "/projects/niblab/experiments/chocolate_milkshake/bids/derivatives/preprocessed/sub-015/ses-1/analysis/beta/task-milkshakeC/sub-015_ses-1_mkC_HF_LS_receipt_trial1.feat/\n",
      "['logs', 'report_log.html', 'design.fsf']\n",
      "/projects/niblab/experiments/chocolate_milkshake/bids/derivatives/preprocessed/sub-015/ses-1/analysis/beta/task-milkshakeC/sub-015_ses-1_mkC_HF_HS_receipt_trial2.feat/\n",
      "['logs', 'report_log.html', 'design.fsf']\n",
      "/projects/niblab/experiments/chocolate_milkshake/bids/derivatives/preprocessed/sub-015/ses-1/analysis/beta/task-milkshakeC/sub-015_ses-1_mkC_HF_LS_receipt_trial3.feat/\n",
      "['logs', 'report_log.html', 'design.fsf']\n",
      "/projects/niblab/experiments/chocolate_milkshake/bids/derivatives/preprocessed/sub-015/ses-1/analysis/beta/task-milkshakeC/sub-015_ses-1_mkC_LF_HS_receipt_trial1.feat/\n",
      "['logs', 'report_log.html', 'design.fsf']\n",
      "/projects/niblab/experiments/chocolate_milkshake/bids/derivatives/preprocessed/sub-015/ses-1/analysis/beta/task-milkshakeC/sub-015_ses-1_mkC_LF_HS_receipt_trial2.feat/\n",
      "['logs', 'report_log.html', 'design.fsf']\n",
      "/projects/niblab/experiments/chocolate_milkshake/bids/derivatives/preprocessed/sub-015/ses-1/analysis/beta/task-milkshakeC/sub-015_ses-1_mkC_h20_receipt_trial2.feat/\n",
      "['logs', 'report_log.html', 'design.fsf']\n",
      "/projects/niblab/experiments/chocolate_milkshake/bids/derivatives/preprocessed/sub-015/ses-1/analysis/beta/task-milkshakeC/sub-015_ses-1_mkC_LF_LS_receipt_trial3.feat/\n",
      "['logs', 'report_log.html', 'design.fsf']\n",
      "/projects/niblab/experiments/chocolate_milkshake/bids/derivatives/preprocessed/sub-015/ses-1/analysis/beta/task-milkshakeC/sub-015_ses-1_mkC_h20_receipt_trial1.feat/\n",
      "['logs', 'report_log.html', 'design.fsf']\n",
      "/projects/niblab/experiments/chocolate_milkshake/bids/derivatives/preprocessed/sub-015/ses-1/analysis/beta/task-milkshakeC/sub-015_ses-1_mkC_LF_HS_receipt_trial3.feat/\n",
      "['logs', 'report_log.html', 'design.fsf']\n",
      "/projects/niblab/experiments/chocolate_milkshake/bids/derivatives/preprocessed/sub-015/ses-1/analysis/beta/task-milkshakeC/sub-015_ses-1_mkC_LF_LS_receipt_trial2.feat/\n",
      "['logs', 'report_log.html', 'design.fsf']\n",
      "/projects/niblab/experiments/chocolate_milkshake/bids/derivatives/preprocessed/sub-015/ses-1/analysis/beta/task-milkshakeC/sub-015_ses-1_mkC_h20_receipt_trial3.feat/\n",
      "['logs', 'report_log.html', 'design.fsf']\n",
      "/projects/niblab/experiments/chocolate_milkshake/bids/derivatives/preprocessed/sub-015/ses-1/analysis/beta/task-milkshakeC/sub-015_ses-1_mkC_LF_LS_receipt_trial1.feat/\n",
      "['logs', 'report_log.html', 'design.fsf']\n",
      "/projects/niblab/experiments/chocolate_milkshake/bids/derivatives/preprocessed/sub-015/ses-1/analysis/beta/task-milkshakeC/sub-015_ses-1_mkC_HF_LS_receipt_trial1+.feat/\n",
      "['logs', 'report_log.html', 'design.fsf']\n",
      "/projects/niblab/experiments/chocolate_milkshake/bids/derivatives/preprocessed/sub-015/ses-1/analysis/beta/task-milkshakeC/sub-015_ses-1_mkC_HF_HS_receipt_trial3+.feat/\n",
      "['logs', 'report_log.html', 'design.fsf']\n",
      "/projects/niblab/experiments/chocolate_milkshake/bids/derivatives/preprocessed/sub-015/ses-1/analysis/beta/task-milkshakeC/sub-015_ses-1_mkC_HF_HS_receipt_trial2+.feat/\n",
      "['logs', 'report_log.html', 'design.fsf']\n",
      "/projects/niblab/experiments/chocolate_milkshake/bids/derivatives/preprocessed/sub-015/ses-1/analysis/beta/task-milkshakeC/sub-015_ses-1_mkC_HF_LS_receipt_trial2+.feat/\n",
      "['logs', 'report_log.html', 'design.fsf']\n",
      "/projects/niblab/experiments/chocolate_milkshake/bids/derivatives/preprocessed/sub-015/ses-1/analysis/beta/task-milkshakeC/sub-015_ses-1_mkC_LF_HS_receipt_trial1+.feat/\n",
      "['logs', 'report_log.html', 'design.fsf']\n",
      "/projects/niblab/experiments/chocolate_milkshake/bids/derivatives/preprocessed/sub-015/ses-1/analysis/beta/task-milkshakeC/sub-015_ses-1_mkC_LF_LS_receipt_trial1+.feat/\n",
      "['logs', 'report_log.html', 'design.fsf']\n",
      "/projects/niblab/experiments/chocolate_milkshake/bids/derivatives/preprocessed/sub-015/ses-1/analysis/beta/task-milkshakeC/sub-015_ses-1_mkC_HF_LS_receipt_trial3+.feat/\n",
      "['logs', 'report_log.html', 'design.fsf']\n",
      "/projects/niblab/experiments/chocolate_milkshake/bids/derivatives/preprocessed/sub-015/ses-1/analysis/beta/task-milkshakeC/sub-015_ses-1_mkC_LF_HS_receipt_trial2+.feat/\n",
      "['logs', 'report_log.html', 'design.fsf']\n",
      "/projects/niblab/experiments/chocolate_milkshake/bids/derivatives/preprocessed/sub-015/ses-1/analysis/beta/task-milkshakeC/sub-015_ses-1_mkC_LF_HS_receipt_trial3+.feat/\n",
      "['logs', 'report_log.html', 'design.fsf']\n",
      "/projects/niblab/experiments/chocolate_milkshake/bids/derivatives/preprocessed/sub-015/ses-1/analysis/beta/task-milkshakeC/sub-015_ses-1_mkC_h20_receipt_trial3+.feat/\n",
      "['logs', 'report_log.html', 'design.fsf']\n",
      "/projects/niblab/experiments/chocolate_milkshake/bids/derivatives/preprocessed/sub-015/ses-1/analysis/beta/task-milkshakeC/sub-015_ses-1_mkC_LF_LS_receipt_trial3+.feat/\n",
      "['logs', 'report_log.html', 'design.fsf']\n",
      "/projects/niblab/experiments/chocolate_milkshake/bids/derivatives/preprocessed/sub-015/ses-1/analysis/beta/task-milkshakeC/sub-015_ses-1_mkC_h20_receipt_trial1+.feat/\n",
      "['logs', 'report_log.html', 'design.fsf']\n",
      "/projects/niblab/experiments/chocolate_milkshake/bids/derivatives/preprocessed/sub-015/ses-1/analysis/beta/task-milkshakeC/sub-015_ses-1_mkC_LF_LS_receipt_trial2+.feat/\n",
      "['logs', 'report_log.html', 'design.fsf']\n",
      "/projects/niblab/experiments/chocolate_milkshake/bids/derivatives/preprocessed/sub-015/ses-1/analysis/beta/task-milkshakeC/sub-015_ses-1_mkC_h20_receipt_trial2+.feat/\n",
      "['logs', 'report_log.html', 'design.fsf']\n",
      "/projects/niblab/experiments/chocolate_milkshake/bids/derivatives/preprocessed/sub-015/ses-1/analysis/beta/task-milkshakeC/sub-015_ses-1_mkC_HF_HS_receipt_trial3++.feat/\n",
      "['logs', 'report_log.html', 'design.fsf']\n",
      "/projects/niblab/experiments/chocolate_milkshake/bids/derivatives/preprocessed/sub-015/ses-1/analysis/beta/task-milkshakeC/sub-015_ses-1_mkC_HF_HS_receipt_trial2++.feat/\n",
      "['logs', 'report_log.html', 'design.fsf']\n",
      "/projects/niblab/experiments/chocolate_milkshake/bids/derivatives/preprocessed/sub-015/ses-1/analysis/beta/task-milkshakeC/sub-015_ses-1_mkC_HF_LS_receipt_trial1++.feat/\n",
      "['logs', 'report_log.html', 'design.fsf']\n",
      "/projects/niblab/experiments/chocolate_milkshake/bids/derivatives/preprocessed/sub-015/ses-1/analysis/beta/task-milkshakeC/sub-015_ses-1_mkC_HF_LS_receipt_trial3++.feat/\n",
      "['logs', 'report_log.html', 'design.fsf']\n",
      "/projects/niblab/experiments/chocolate_milkshake/bids/derivatives/preprocessed/sub-015/ses-1/analysis/beta/task-milkshakeC/sub-015_ses-1_mkC_LF_HS_receipt_trial1++.feat/\n",
      "['logs', 'report_log.html', 'design.fsf']\n",
      "/projects/niblab/experiments/chocolate_milkshake/bids/derivatives/preprocessed/sub-015/ses-1/analysis/beta/task-milkshakeC/sub-015_ses-1_mkC_HF_LS_receipt_trial2++.feat/\n",
      "['logs', 'report_log.html', 'design.fsf']\n",
      "/projects/niblab/experiments/chocolate_milkshake/bids/derivatives/preprocessed/sub-015/ses-1/analysis/beta/task-milkshakeC/sub-015_ses-1_mkC_LF_LS_receipt_trial1++.feat/\n"
     ]
    },
    {
     "name": "stdout",
     "output_type": "stream",
     "text": [
      "['logs', 'report_log.html', 'design.fsf']\n",
      "/projects/niblab/experiments/chocolate_milkshake/bids/derivatives/preprocessed/sub-015/ses-1/analysis/beta/task-milkshakeC/sub-015_ses-1_mkC_LF_HS_receipt_trial2++.feat/\n",
      "['logs', 'report_log.html', 'design.fsf']\n",
      "/projects/niblab/experiments/chocolate_milkshake/bids/derivatives/preprocessed/sub-015/ses-1/analysis/beta/task-milkshakeC/sub-015_ses-1_mkC_LF_HS_receipt_trial3++.feat/\n",
      "['logs', 'report_log.html', 'design.fsf']\n",
      "/projects/niblab/experiments/chocolate_milkshake/bids/derivatives/preprocessed/sub-015/ses-1/analysis/beta/task-milkshakeC/sub-015_ses-1_mkC_h20_receipt_trial3++.feat/\n",
      "['logs', 'report_log.html', 'design.fsf']\n",
      "/projects/niblab/experiments/chocolate_milkshake/bids/derivatives/preprocessed/sub-015/ses-1/analysis/beta/task-milkshakeC/sub-015_ses-1_mkC_LF_LS_receipt_trial2++.feat/\n",
      "['logs', 'report_log.html', 'design.fsf']\n",
      "/projects/niblab/experiments/chocolate_milkshake/bids/derivatives/preprocessed/sub-015/ses-1/analysis/beta/task-milkshakeC/sub-015_ses-1_mkC_LF_LS_receipt_trial3++.feat/\n",
      "['logs', 'report_log.html', 'design.fsf']\n",
      "/projects/niblab/experiments/chocolate_milkshake/bids/derivatives/preprocessed/sub-015/ses-1/analysis/beta/task-milkshakeC/sub-015_ses-1_mkC_h20_receipt_trial1++.feat/\n",
      "['logs', 'report_log.html', 'design.fsf']\n",
      "/projects/niblab/experiments/chocolate_milkshake/bids/derivatives/preprocessed/sub-015/ses-1/analysis/beta/task-milkshakeC/sub-015_ses-1_mkC_h20_receipt_trial2++.feat/\n"
     ]
    }
   ],
   "source": [
    "quality_check()"
   ]
  },
  {
   "cell_type": "markdown",
   "metadata": {},
   "source": [
    "Setup data dictionary"
   ]
  },
  {
   "cell_type": "code",
   "execution_count": 99,
   "metadata": {},
   "outputs": [],
   "source": [
    "subject_folders=sorted(glob.glob('/projects/niblab/experiments/chocolate_milkshake/bids/derivatives/preprocessed/sub-*'))\n",
    "\n",
    "data_dict={}\n",
    "bad_subs=[]\n"
   ]
  },
  {
   "cell_type": "markdown",
   "metadata": {},
   "source": [
    "Get the subjects and the feat1 pe files, fill in data dict"
   ]
  },
  {
   "cell_type": "code",
   "execution_count": 100,
   "metadata": {
    "scrolled": false
   },
   "outputs": [],
   "source": [
    "for folder in subject_folders:\n",
    "    subject_id=folder.split(\"/\")[-1]\n",
    "    #print(os.path.join(folder,'ses-1/analysis/beta/*.feat'))\n",
    "    tasks=glob.glob(os.path.join(folder,'ses-1/analysis/beta/*'))\n",
    "    #print(tasks)\n",
    "    if not tasks:\n",
    "        bad_subs.append(subject_id)\n",
    "    else:\n",
    "        if subject_id not in data_dict:\n",
    "            data_dict[subject_id]={}\n",
    "        for task_folder in tasks:\n",
    "            #print(task_folder)\n",
    "            task=task_folder.split(\"/\")[-1].split('.')[0]\n",
    "            #print(task)\n",
    "            if task not in data_dict[subject_id]:\n",
    "                data_dict[subject_id][task]={}\n",
    "            pes=glob.glob(os.path.join(task_folder, '*.feat'))\n",
    "            data_dict[subject_id][task]=pes\n",
    "                "
   ]
  },
  {
   "cell_type": "code",
   "execution_count": 5,
   "metadata": {},
   "outputs": [],
   "source": [
    "#data_dict"
   ]
  },
  {
   "cell_type": "markdown",
   "metadata": {},
   "source": [
    "## Concatenate  \n",
    "`fslmerge : concatente image files into a single output.`   \n",
    "  \n",
    "In this step we use the `fslmerge` command to combine the `pe.nii.gz` files by subject of the same condition.  \n",
    "\n",
    "\n"
   ]
  },
  {
   "cell_type": "code",
   "execution_count": 18,
   "metadata": {},
   "outputs": [
    {
     "name": "stdout",
     "output_type": "stream",
     "text": [
      "[INFO] running fslmerge command...\n",
      "fslmerge -t [OUTPUT FILENAME][PE FILES]\n",
      "[INFO] finished fslmerge command...\n"
     ]
    }
   ],
   "source": [
    "print(\"[INFO] running fslmerge command...\\nfslmerge -t [OUTPUT FILENAME][PE FILES]\")\n",
    "\n",
    "for subject_id in data_dict:\n",
    "    for task in data_dict[subject_id]:\n",
    "        pes=data_dict[subject_id][task]#[trial]\n",
    "        #print(pes)\n",
    "        #print(trial)\n",
    "        #filename=trial.replace(subject_id+\"_\", \"\")\n",
    "        outfile = \"/projects/niblab/experiments/chocolate_milkshake/data/fslmerge/%s_%s\"%(subject_id, task)\n",
    "        #print(outfile)\n",
    "        if not pes:\n",
    "            bad_subs.append(subject_id)\n",
    "        else:\n",
    "            pe_str = \" \".join(pes)\n",
    "            fslmerge_cmd=\"/projects/niblab/modules/software/fsl/5.0.10/bin/fslmerge -t %s %s\"%(outfile, pe_str)\n",
    "            #print(\"[INFO] running fsl merge command...\")\n",
    "            #print(fslmerge_cmd, \"\\n\")\n",
    "            #os.system(fslmerge_cmd)\n",
    "\n",
    "print(\"[INFO] finished fslmerge command...\")\n",
    "            "
   ]
  },
  {
   "cell_type": "markdown",
   "metadata": {},
   "source": [
    "Lets look at the created files:"
   ]
  },
  {
   "cell_type": "code",
   "execution_count": 6,
   "metadata": {},
   "outputs": [
    {
     "data": {
      "text/plain": [
       "['/projects/niblab/experiments/chocolate_milkshake/data/fslmerge/sub-001_task-milkshakeB.nii.gz',\n",
       " '/projects/niblab/experiments/chocolate_milkshake/data/fslmerge/sub-001_task-milkshakeC.nii.gz',\n",
       " '/projects/niblab/experiments/chocolate_milkshake/data/fslmerge/sub-004_task-milkshakeA.nii.gz',\n",
       " '/projects/niblab/experiments/chocolate_milkshake/data/fslmerge/sub-004_task-milkshakeB.nii.gz']"
      ]
     },
     "execution_count": 6,
     "metadata": {},
     "output_type": "execute_result"
    }
   ],
   "source": [
    "fslmerged_files=glob.glob('/projects/niblab/experiments/chocolate_milkshake/data/fslmerge/*milkshake*.nii.gz')\n",
    "fslmerged_files[:4]"
   ]
  },
  {
   "cell_type": "markdown",
   "metadata": {},
   "source": [
    "Fill data dictionary with concatenated files"
   ]
  },
  {
   "cell_type": "code",
   "execution_count": 107,
   "metadata": {},
   "outputs": [],
   "source": [
    "for nifti in fslmerged_files:\n",
    "    task=nifti.split(\"/\")[-1].split(\"_\")[1].split('.')[0]\n",
    "    subject_id=nifti.split(\"/\")[-1].split(\"_\")[0]\n",
    "    key=nifti.split(\"/\")[-1].split(\".\")[0].split('_')[1]\n",
    "    key=key+\"_concat\"\n",
    "    #print(subject_id)\n",
    "    #data_dict[subject_id][task]['concat']=nifti"
   ]
  },
  {
   "cell_type": "markdown",
   "metadata": {},
   "source": [
    "## Warp ROIS  \n",
    "This step we warp MNILin152 template into MNIAsym152 BOLD space.  \n",
    "\n",
    "To warp the ROIs into the right space   \n",
    "-- Warp ROIs into MNI_Asymmetrical Space   \n",
    "--- *This can be done at any point, I did it here.\n",
    "\n",
    "* Warp MNILin152 template into MNIAsym152 BOLD space  \n",
    "\n",
    "* Use the naming.xlsx template to make flirt commands\n",
    "* Apply the flirt warp to all the ROIs from the chocolate decoding analysis (warp_rois.job)    \n",
    "  \n",
    "ROIs location on renci: `/projects/niblab/parcellations/chocolate_decoding_rois`   \n",
    "\n",
    "Big Brain 300: `/projects/niblab/parcellations/chocolate_decoding_rois/old_rois/bigBrain300_atlas`\n",
    "  \n",
    "`flirt`: the main program that performs affine registration. The options we use here:  \n",
    "* `-in`, an input  \n",
    "* `-ref`, a reference volume  \n",
    "* `applyxfm`, `-init` and `-out`, apply a saved transformation to a volume   \n",
    "\n",
    "  \n",
    "  \n",
    "*For these usages the reference volume must still be specified as this sets the voxel and image dimensions of the resulting volume.*\n"
   ]
  },
  {
   "cell_type": "markdown",
   "metadata": {},
   "source": [
    "Example command   \n",
    "    \n",
    "  `/projects/niblab/modules/software/fsl/5.0.10/bin/flirt -in /projects/niblab/parcellations/chocolate_decoding_rois/seperate_ROIs_gust_atlas/AI_35_23_-6.nii.gz -applyxfm -init /projects/niblab/parcellations/chocolate_decoding_rois/mni2ace.mat -out /projects/niblab/parcellations/chocolate_decoding_rois/seperate_ROIs_gust_atlas_ace/AI_35_23_-6_asymPREPspace.nii.gz -ref /projects/niblab/parcellations/chocolate_decoding_rois/mni2ace.nii.gz`\n",
    "`"
   ]
  },
  {
   "cell_type": "markdown",
   "metadata": {},
   "source": [
    "To warp ROIs...\n",
    "\n",
    "* First need to do the `.mat` file from the MNI2mm to the asymetrical\n",
    "\n",
    "\n",
    "`flirt -ref ../mni_icbm152_nlin_asym_09c_nifti/mni_icbm152_nlin_asym_09c/mni_icbm152_t1_tal_nlin_asym_09c_brain.nii.gz -in /projects/niblab/modules/software/fsl/5.0.10/data/standard/MNI152_T1_2mm_brain.nii.gz -out mni2mm2ace -omat mni2mm2ace`\n",
    "  \n",
    "  \n",
    "* Then apply the `.mat` file to warp the ROIS\n",
    "  \n",
    "`flirt -ref mni2mm2ace.nii.gz -in gust_atlas+.nii -applyxfm -init mni2mm2ace -out test`\n"
   ]
  },
  {
   "cell_type": "markdown",
   "metadata": {},
   "source": [
    "## Prepare ROI Timeseries  \n",
    "`fslmeants : outputs the average timeseries of a set of voxels, or the individual timeseries for each of these voxels.`  "
   ]
  },
  {
   "cell_type": "code",
   "execution_count": 24,
   "metadata": {},
   "outputs": [
    {
     "data": {
      "text/plain": [
       "['/projects/niblab/experiments/chocolate_milkshake/data/fslmerge/sub-001_task-milkshakeB.nii.gz',\n",
       " '/projects/niblab/experiments/chocolate_milkshake/data/fslmerge/sub-001_task-milkshakeC.nii.gz',\n",
       " '/projects/niblab/experiments/chocolate_milkshake/data/fslmerge/sub-004_task-milkshakeA.nii.gz',\n",
       " '/projects/niblab/experiments/chocolate_milkshake/data/fslmerge/sub-004_task-milkshakeB.nii.gz']"
      ]
     },
     "execution_count": 24,
     "metadata": {},
     "output_type": "execute_result"
    }
   ],
   "source": [
    "# we need our fslmerge concatenated niftis\n",
    "fslmerged_files[:4]"
   ]
  },
  {
   "cell_type": "code",
   "execution_count": 20,
   "metadata": {},
   "outputs": [
    {
     "name": "stdout",
     "output_type": "stream",
     "text": [
      "[INFO] grabbing individual rois\n"
     ]
    },
    {
     "data": {
      "text/plain": [
       "['/projects/niblab/parcellations/chocolate_decoding_rois/seperate_ROIs_gust_atlas_ace/AI_35_23_-6_asymPREPspace.nii.gz',\n",
       " '/projects/niblab/parcellations/chocolate_decoding_rois/seperate_ROIs_gust_atlas_ace/caudate_-13_15_14_asymPREPspace.nii.gz',\n",
       " '/projects/niblab/parcellations/chocolate_decoding_rois/seperate_ROIs_gust_atlas_ace/caudate_-14_-14_13_asymPREPspace.nii.gz',\n",
       " '/projects/niblab/parcellations/chocolate_decoding_rois/seperate_ROIs_gust_atlas_ace/cent_op_51_-13_10_asymPREPspace.nii.gz']"
      ]
     },
     "execution_count": 20,
     "metadata": {},
     "output_type": "execute_result"
    }
   ],
   "source": [
    "# get individual roi list\n",
    "print('[INFO] grabbing individual rois')\n",
    "roi_list = glob.glob(os.path.join('/projects/niblab/parcellations/chocolate_decoding_rois/seperate_ROIs_gust_atlas_ace', '*.nii.gz'))\n",
    "#roi_list = glob.glob(os.path.join('/projects/niblab/parcellations/bigbrain300/MNI_3mm_sep', 'bb300_MNI1523mm*.nii'))\n",
    "\n",
    "#print(ROI_list)\n",
    "\n",
    "for ROI in roi_list:\n",
    "    #ROI_name=ROI.split('/')[6].split('asym')[0]\n",
    "    roi_name=ROI.split('/')[-1].split('.')[0]\n",
    "    \n",
    "\n",
    "roi_list[:4]\n",
    "\n"
   ]
  },
  {
   "cell_type": "markdown",
   "metadata": {},
   "source": [
    "Example:  \n",
    "\n",
    "\n",
    "`fslmeants -i /Users/jennygilbert/Documents/betaseries_bevel/concatenated_NIFTI_files/sub-001_punish.nii.gz -o /Users/jennygilbert/Documents/betaseries_bevel/3_pull_timeseries/sub-001_punish_AI_35_23_-6_asymPREPspace.nii.gz.txt -m /Users/jennygilbert/Documents/betaseries_bevel/seperate_ROIs_gust_atlas_ace/AI_35_23_-6_asymPREPspace.nii.gz`\n",
    "\n"
   ]
  },
  {
   "cell_type": "code",
   "execution_count": 58,
   "metadata": {},
   "outputs": [],
   "source": [
    "def pull_timeseries(file_list):\n",
    "    # get nifti files\n",
    "    print(\"[INFO] setting up and running fslmeants command \")\n",
    "\n",
    "    out_dir = \"/projects/niblab/experiments/chocolate_milkshake/data/betaseries/rois\"\n",
    "    print(\"[INFO] {} nifti files being processed.\".format(len(file_list)))\n",
    "    roi_file = \"/projects/niblab/bids_projects/Experiments/Bevel/derivatives/betaseries/betaseries_rois.txt\"\n",
    "    df = pd.read_csv(roi_file, sep=\"\\t\")\n",
    "    df_T = df.T\n",
    "    #print(df.head())\n",
    "    for nifti in sorted(file_list):\n",
    "        subj_id = nifti.split(\"/\")[-1].split(\"_\")[0]\n",
    "        subj_condition=nifti.split(\"/\")[-1].split(\"_\")[1].split(\".\")[0]\n",
    "        #print(subj_id, subj_condition)\n",
    "        # go through rois\n",
    "        for index in df.index.values:\n",
    "            roi = df.iloc[index, 0]\n",
    "            x = df.iloc[index, 1]\n",
    "            y = df.iloc[index, 2]\n",
    "            z = df.iloc[index, 3]\n",
    "            #print(roi,x,y,z)\n",
    "            out_path = os.path.join(out_dir, \"{}_{}_{}.txt\".format(subj_id, subj_condition, roi))\n",
    "            #print(\"Output file being made: {}\".format(out_path))\n",
    "            cmd='fslmeants -i {} -o {} -c {} {} {} --usemm \\n\\n'.format(nifti, out_path, x, y, z)\n",
    "            #print(\"Running shell command: {}\".format(cmd))\n",
    "            subprocess.run(cmd, shell=True)\n",
    "\n",
    "    print(\"[INFO] finished fslmeants command for chocolate milkshake receipts.\")\n",
    "   "
   ]
  },
  {
   "cell_type": "code",
   "execution_count": 59,
   "metadata": {},
   "outputs": [
    {
     "name": "stdout",
     "output_type": "stream",
     "text": [
      "[INFO] setting up and running fslmeants command \n",
      "[INFO] 224 nifti files being processed.\n",
      "[INFO] finished fslmeants command for chocolate milkshake receipts.\n"
     ]
    }
   ],
   "source": [
    "# pull timeseries by rois --fslmeants command\n",
    "pull_timeseries(fslmerged_files)"
   ]
  },
  {
   "cell_type": "code",
   "execution_count": 60,
   "metadata": {},
   "outputs": [
    {
     "data": {
      "text/plain": [
       "'# make timeseries for file\\nprint(\"[INFO] setting up and running fslmeants command \")\\n\\nfor nifti in fslmerged_files[:3]:\\n    condition_name=nifti.split(\"/\")[-1].split(\\'.\\')[0]\\n    #print(subj_condition)\\n    \\n    # loop through individual reference rois\\n    for roi in roi_list:\\n        # setup fslmeants command\\n        roi_name=roi.split(\"/\")[-1].split(\".\")[0]\\n        outfile=os.path.join(\\'/projects/niblab/experiments/chocolate_milkshake/data/timeseries\\', \\'%s_%s.txt\\'%(condition_name,roi_name))\\n        fslmeants_cmd=\\'\\n fslmeants -i {} -o {} -m {}\\'.format(nifti, outfile,roi)\\n        print(fslmeants_cmd)\\n        \\n        # write command to file\\n        \\n        # run fslmeants command\\n        #os.system(fslmeants_cmd)\\n    \\nprint(\"[INFO] fslmeants process completed. \")'"
      ]
     },
     "execution_count": 60,
     "metadata": {},
     "output_type": "execute_result"
    }
   ],
   "source": [
    "\"\"\"# make timeseries for file\n",
    "print(\"[INFO] setting up and running fslmeants command \")\n",
    "\n",
    "for nifti in fslmerged_files[:3]:\n",
    "    condition_name=nifti.split(\"/\")[-1].split('.')[0]\n",
    "    #print(subj_condition)\n",
    "    \n",
    "    # loop through individual reference rois\n",
    "    for roi in roi_list:\n",
    "        # setup fslmeants command\n",
    "        roi_name=roi.split(\"/\")[-1].split(\".\")[0]\n",
    "        outfile=os.path.join('/projects/niblab/experiments/chocolate_milkshake/data/timeseries', '%s_%s.txt'%(condition_name,roi_name))\n",
    "        fslmeants_cmd='\\n fslmeants -i {} -o {} -m {}'.format(nifti, outfile,roi)\n",
    "        print(fslmeants_cmd)\n",
    "        \n",
    "        # write command to file\n",
    "        \n",
    "        # run fslmeants command\n",
    "        #os.system(fslmeants_cmd)\n",
    "    \n",
    "print(\"[INFO] fslmeants process completed. \")\"\"\"\n",
    "    "
   ]
  },
  {
   "cell_type": "markdown",
   "metadata": {},
   "source": [
    "Quick view of roi text files made:"
   ]
  },
  {
   "cell_type": "code",
   "execution_count": 121,
   "metadata": {},
   "outputs": [
    {
     "data": {
      "text/plain": [
       "['sub-001_task-milkshakeB_Amygdala_L.txt',\n",
       " 'sub-001_task-milkshakeB_Amygdala_R.txt',\n",
       " 'sub-001_task-milkshakeB_Dorsal_striatum_L.txt',\n",
       " 'sub-001_task-milkshakeB_Dorsal_striatum_R.txt',\n",
       " 'sub-001_task-milkshakeB_Fusiform_gyrus_L.txt']"
      ]
     },
     "execution_count": 121,
     "metadata": {},
     "output_type": "execute_result"
    }
   ],
   "source": [
    "# view timeseries \n",
    "listdir('/projects/niblab/experiments/chocolate_milkshake/data/betaseries/rois')[:5]\n"
   ]
  },
  {
   "cell_type": "markdown",
   "metadata": {},
   "source": [
    "## Combine Timeseries into Matrix  \n",
    "Combine timeseries roi files into, **one file per condition per participant**  "
   ]
  },
  {
   "cell_type": "code",
   "execution_count": 87,
   "metadata": {},
   "outputs": [
    {
     "data": {
      "text/plain": [
       "['sub-150', 'sub-151', 'sub-154']"
      ]
     },
     "execution_count": 87,
     "metadata": {},
     "output_type": "execute_result"
    }
   ],
   "source": [
    "subject_ids=list(data_dict.keys())\n",
    "subject_ids[-3:]\n"
   ]
  },
  {
   "cell_type": "code",
   "execution_count": 79,
   "metadata": {},
   "outputs": [
    {
     "data": {
      "text/plain": [
       "['/projects/niblab/experiments/chocolate_milkshake/data/betaseries/rois/sub-001_task-milkshakeC_vlPFC_R.txt',\n",
       " '/projects/niblab/experiments/chocolate_milkshake/data/betaseries/rois/sub-001_task-milkshakeC_vlThalamus_L.txt',\n",
       " '/projects/niblab/experiments/chocolate_milkshake/data/betaseries/rois/sub-001_task-milkshakeC_vlThalamus_R.txt',\n",
       " '/projects/niblab/experiments/chocolate_milkshake/data/betaseries/rois/sub-001_task-milkshakeC_vmPFC_L.txt',\n",
       " '/projects/niblab/experiments/chocolate_milkshake/data/betaseries/rois/sub-001_task-milkshakeC_vmPFC_R.txt']"
      ]
     },
     "execution_count": 79,
     "metadata": {},
     "output_type": "execute_result"
    }
   ],
   "source": [
    "roi_txts[-5:]"
   ]
  },
  {
   "cell_type": "code",
   "execution_count": 116,
   "metadata": {},
   "outputs": [
    {
     "name": "stdout",
     "output_type": "stream",
     "text": [
      "[INFO] making subject condition files from rois.\n",
      "[INFO]error with sub-015 condition task-milkshakeC, passing...\n",
      "[INFO]error with sub-032 condition task-milkshakeD, passing...\n",
      "[INFO]error with sub-033 condition task-milkshakeC, passing...\n",
      "[INFO]error with sub-081 condition task-milkshakeC, passing...\n",
      "[INFO]error with sub-088 condition task-milkshakeD, passing...\n",
      "[INFO] completed process.\n"
     ]
    }
   ],
   "source": [
    "print(\"[INFO] making subject condition files from rois.\")\n",
    "\n",
    "for subject_id in subject_ids:\n",
    "    tasks=list(data_dict[subject_id].keys())\n",
    "    for task in tasks:\n",
    "        # get roi texts for subject / condition\n",
    "        roi_txts = glob.glob('/projects/niblab/experiments/chocolate_milkshake/data/betaseries/rois/%s_%s*txt'%(subject_id,task))\n",
    "        df_lst=[]\n",
    "        for txt in roi_txts: \n",
    "            #print(txt)\n",
    "            df_temp = pd.read_csv(txt, sep=\"\\n\", header=None)\n",
    "            #print(df_temp)\n",
    "            df_lst.append(df_temp)\n",
    "        try:\n",
    "            df_concat= pd.concat(df_lst, axis=1, sort=False)\n",
    "            #print(df_concat)\n",
    "\n",
    "            # write output file \n",
    "            outfile='/projects/niblab/experiments/chocolate_milkshake/data/betaseries/by_sub/%s_%s.txt'%(subject_id,task)\n",
    "            #print('[INFO] making file %s'%outfile)\n",
    "            df_concat.to_csv(outfile, header=None, index=None, sep='\\t')\n",
    "        except:\n",
    "            print('[INFO]error with %s condition %s, passing...'%(subject_id,task))\n",
    "print(\"[INFO] completed process.\")\n",
    "\n"
   ]
  },
  {
   "cell_type": "markdown",
   "metadata": {},
   "source": [
    "Qucikly view the created files"
   ]
  },
  {
   "cell_type": "code",
   "execution_count": 122,
   "metadata": {},
   "outputs": [
    {
     "data": {
      "text/plain": [
       "['sub-146_task-milkshakeB.txt',\n",
       " 'sub-146_task-milkshakeA.txt',\n",
       " 'sub-147_task-milkshakeB.txt',\n",
       " 'sub-147_task-milkshakeA.txt',\n",
       " 'sub-150_task-milkshakeC.txt',\n",
       " 'sub-150_task-milkshakeB.txt',\n",
       " 'sub-151_task-milkshakeC.txt',\n",
       " 'sub-151_task-milkshakeB.txt',\n",
       " 'sub-154_task-milkshakeC.txt',\n",
       " 'sub-154_task-milkshakeA.txt']"
      ]
     },
     "execution_count": 122,
     "metadata": {},
     "output_type": "execute_result"
    }
   ],
   "source": [
    "listdir('/projects/niblab/experiments/chocolate_milkshake/data/betaseries/by_sub')[-10:]"
   ]
  }
 ],
 "metadata": {
  "kernelspec": {
   "display_name": "Python 3",
   "language": "python",
   "name": "python3"
  },
  "language_info": {
   "codemirror_mode": {
    "name": "ipython",
    "version": 3
   },
   "file_extension": ".py",
   "mimetype": "text/x-python",
   "name": "python",
   "nbconvert_exporter": "python",
   "pygments_lexer": "ipython3",
   "version": "3.7.4"
  }
 },
 "nbformat": 4,
 "nbformat_minor": 2
}
