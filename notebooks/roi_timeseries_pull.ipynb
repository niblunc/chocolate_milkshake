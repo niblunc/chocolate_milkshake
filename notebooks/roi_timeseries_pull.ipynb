{
 "cells": [
  {
   "cell_type": "code",
   "execution_count": 6,
   "metadata": {},
   "outputs": [],
   "source": [
    "import glob\n",
    "import os\n",
    "import pandas as pd\n",
    "import argparse\n",
    "import subprocess\n",
    "import re\n",
    "from IPython.core import display as ICD\n",
    "from os import listdir\n",
    "from multiprocessing import cpu_count\n",
    "from multiprocessing import Pool\n",
    "from shutil import rmtree\n",
    "from subprocess import check_output"
   ]
  },
  {
   "cell_type": "markdown",
   "metadata": {},
   "source": [
    "# Timeseries Pull & Averaging"
   ]
  },
  {
   "cell_type": "markdown",
   "metadata": {},
   "source": [
    "## Table of Conents:\n",
    "\n",
    "* [Get Input Data](#input)\n",
    "* [Transform functionals with flirt and fslmath](#transform)\n",
    "* [Pull individual ROI timeseries by subject](#pulltimeseries)\n"
   ]
  },
  {
   "cell_type": "markdown",
   "metadata": {},
   "source": [
    "Steps:\n",
    "1. Pull *uncorrected* timeseries from functionals  \n",
    "2. Create functional connectivity matrices(FCMs) for each subject per run \n",
    "3. Average the FCMs across runs"
   ]
  },
  {
   "cell_type": "code",
   "execution_count": 29,
   "metadata": {},
   "outputs": [],
   "source": [
    "# load and set variables\n",
    "data_path='/projects/niblab/experiments/chocolate_milkshake/data'\n",
    "beta_path='/projects/niblab/experiments/chocolate_milkshake/data/betaseries'\n",
    "concat_path=\"/projects/niblab/experiments/chocolate_milkshake/data/betaseries/concat_niftis\"\n",
    "subject_folders=sorted(glob.glob('/projects/niblab/experiments/chocolate_milkshake/data/preprocessed/sub-*'))\n",
    "\n",
    "data_dict={}\n",
    "bad_subs=[]\n"
   ]
  },
  {
   "cell_type": "code",
   "execution_count": null,
   "metadata": {},
   "outputs": [],
   "source": [
    "subje"
   ]
  },
  {
   "cell_type": "code",
   "execution_count": 30,
   "metadata": {},
   "outputs": [],
   "source": [
    "\"\"\"\n",
    "# Helper Functions\n",
    "#\n",
    "\"\"\"\n",
    "\n",
    "def chunks(l,n):\n",
    "    return [l[i:i+n] for i in range(0, len(l), n)]\n"
   ]
  },
  {
   "cell_type": "code",
   "execution_count": 31,
   "metadata": {},
   "outputs": [
    {
     "name": "stdout",
     "output_type": "stream",
     "text": [
      "Functional nifti files found: 343\n"
     ]
    }
   ],
   "source": [
    "# get functionals \n",
    "functional_niis=glob.glob(os.path.join(data_path, \"preprocessed/sub-*/ses-1/func/*brain.nii.gz\"))\n",
    "print(\"Functional nifti files found: {}\".format(len(functional_niis)))\n",
    "\n"
   ]
  },
  {
   "cell_type": "code",
   "execution_count": 32,
   "metadata": {},
   "outputs": [
    {
     "name": "stdout",
     "output_type": "stream",
     "text": [
      "sub-001 task-milkshakeC\n",
      "sub-001 task-milkshakeB\n",
      "sub-001 task-imagine\n"
     ]
    }
   ],
   "source": [
    "for func_file in functional_niis[:3]:\n",
    "    #print(func_file.split(\"/\")[-1])\n",
    "    subj_id = func_file.split(\"/\")[-1].split(\"_\")[0]\n",
    "    task_id = func_file.split(\"/\")[-1].split(\"_\")[2]\n",
    "    print(subj_id, task_id)\n",
    "    if 'imagine' in task_id:\n",
    "        pass\n",
    "    else:\n",
    "        if subj_id not in data_dict:\n",
    "            data_dict[subj_id]={}\n",
    "        if task_id not in data_dict[subj_id]:\n",
    "            data_dict[subj_id][task_id]={}\n",
    "\n",
    "\n"
   ]
  },
  {
   "cell_type": "code",
   "execution_count": 26,
   "metadata": {},
   "outputs": [],
   "source": [
    "def tranform_niftis(niftis):\n",
    "    reference_nifti='/projects/niblab/parcellations/chocolate_decoding_rois/mni2ace.nii.gz'\n",
    "    reference_mat='/projects/niblab/parcellations/chocolate_decoding_rois/mni2ace.mat'\n",
    "    for nii in niftis:\n",
    "\n",
    "        # setup and run flirt\n",
    "        nii=nii.replace('.nii.gz', '')\n",
    "        out=nii+'_3mm'\n",
    "        flirt_cmd=\"flirt -in {} -ref {} -init {} -applyxfm -out {}\".format(nii, reference_nifti, reference_mat, out)\n",
    "        #print('[INFO] flirt command: \\n{}'.format(flirt_cmd))\n",
    "        os.system(flirt_cmd)\n",
    "\n",
    "        fslmaths_cmd='fslmaths {} -thr 0.9 {}'.format(out,out)\n",
    "        #print('[INFO] fslmaths command: \\n{}'.format(fslmaths_cmd))\n",
    "        os.system(fslmaths_cmd)"
   ]
  },
  {
   "cell_type": "code",
   "execution_count": 27,
   "metadata": {},
   "outputs": [
    {
     "name": "stdout",
     "output_type": "stream",
     "text": [
      "[INFO] transform functionals to match the mask.\n",
      "[INFO] chunksize: 10\n",
      "[INFO] transformation process complete.\n"
     ]
    }
   ],
   "source": [
    "\n",
    "print('[INFO] transform functionals to match the mask.')\n",
    "chunksize=10\n",
    "funcs=functional_niis\n",
    "\n",
    "# grab concatenated (fslmerge) data\n",
    "#fslmerged_files[:4]\n",
    "print(\"[INFO] chunksize: {}\".format(chunksize))\n",
    "chunk_list=chunks(funcs, chunksize)\n",
    "#print(len(chunk_list))\n",
    "with Pool(12) as p:\n",
    "    p.map(tranform_niftis, chunk_list)\n",
    "print('[INFO] transformation process complete.')\n"
   ]
  },
  {
   "cell_type": "markdown",
   "metadata": {},
   "source": [
    "## Pull Timeseries <a class='anchor' id='pulltimeseries'></a>\n",
    "  \n",
    "  \n",
    "**Pull individual ROI timeseries from the bigbrain300 atlas for each subject per condition**. \n",
    "\n",
    "Example command:  \n",
    "\n",
    "\n",
    "    fslmeants -i ~/sub-001_punish.nii.gz -o ~/3_pull_timeseries/sub-001_punish_AI_35_23_-6_asymPREPspace.nii.gz.txt -m ~/AI_35_23_-6_asymPREPspace.nii.gz\n",
    "\n"
   ]
  },
  {
   "cell_type": "code",
   "execution_count": 31,
   "metadata": {},
   "outputs": [],
   "source": [
    "\n",
    "\n",
    "def pull_timeseries(file_list, bb300_path='/projects/niblab/parcellations/bigbrain300',roi_df='/projects/niblab/parcellations/bigbrain300/renaming.csv'):\n",
    "\n",
    "    \n",
    "    bad_subs=[]\n",
    "    #ICD.display(roi_df)\n",
    "\n",
    "    # load asymmetrical nifti roi files\n",
    "    asym_niftis=glob.glob(\"/projects/niblab/parcellations/bigbrain300/MNI152Asymmetrical_3mm/*.nii.gz\")\n",
    "\n",
    "    # load roi list\n",
    "    out_dir = os.path.join(data_path, 'rois/bigbrain300/funcs_uc')\n",
    "    #print('[INFO] output folder: \\t%s \\n'%out_dir)\n",
    "\n",
    "\n",
    "    # loop through the roi file list\n",
    "    #print(roi_list[:3])\n",
    "    for nifti in sorted(file_list):\n",
    "\n",
    "        subj_id = nifti.split(\"/\")[-1].split(\"_\")[0]\n",
    "        task_id = nifti.split(\"/\")[-1].split(\"_\")[2]\n",
    "        #print('[INFO] roi: %s %s \\n%s'%(subj_id, task_id, nifti))\n",
    "\n",
    "        # loop through roi reference list\n",
    "        for ref_nifti in sorted(asym_niftis):\n",
    "            #print('[INFO] reference roi: %s'%ref_nifti)\n",
    "            roi = ref_nifti.split('/')[-1].split(\".\")[0]\n",
    "            out_path = os.path.join(out_dir, \"{}_{}_{}_{}.txt\".format(subj_id, \"ses-1\", task_id, roi))\n",
    "            #print(roi, out_path)\n",
    "            cmd='fslmeants -i {} -o {} -m {}'.format(nifti, out_path, ref_nifti)\n",
    "            try:\n",
    "                #cmd='fslmeants -i {} -o {} -m {}'.format(nifti, out_path, ref_nifti)\n",
    "                print(\"Running shell command: {}\".format(cmd))\n",
    "                #os.system(cmd)\n",
    "                pass\n",
    "            except:\n",
    "                bad_subs.append((subj_id, task_id))\n",
    "        \n",
    "        #print('[INFO] finished processing for %s'%subj_id)\n",
    "        \n",
    "\n",
    "    return \"%s\"%bad_subs\n",
    "\n",
    "   "
   ]
  },
  {
   "cell_type": "code",
   "execution_count": 37,
   "metadata": {},
   "outputs": [
    {
     "name": "stdout",
     "output_type": "stream",
     "text": [
      "[INFO] loading roi and reference file....\n",
      "Functional nifti files found: 229\n",
      "[INFO] chunksize: 16\n"
     ]
    }
   ],
   "source": [
    "\n",
    "# load roi\n",
    "print(\"[INFO] loading roi and reference file....\")\n",
    "\n",
    "#subject_ids=[x.split(\"/\")[-2] for x in glob.glob(os.path.join(data_path, 'preprocessed/sub-*/ses-1'))]\n",
    "# get functionals \n",
    "funcs_3mm =glob.glob(os.path.join(data_path, \"preprocessed/sub-*/ses-1/func/*milkshake*brain_3mm.nii.gz\"))\n",
    "print(\"Functional nifti files found: {}\".format(len(funcs_3mm)))\n",
    "chunksize=16\n",
    "print(\"[INFO] chunksize: {}\".format(chunksize))\n",
    "chunk_list=chunks(funcs_3mm, chunksize)\n",
    "#roi_df['network']\n",
    "# pull timeseries by rois --fslmeants command\n",
    "#print(chunk_list)\n",
    "def run_process(pool_size):\n",
    "    print(\"[INFO] starting multiprocess...\")\n",
    "    with Pool(pool_size) as p:\n",
    "        error_subjects=p.map(pull_timeseries, chunk_list)\n",
    "    print(\"[INFO] process complete. \\n[INFO] bad subjects: \\t\\t%s\"%error_subjects)\n",
    "    \n",
    "pool_size=16\n",
    "#run_process(pool_size)"
   ]
  },
  {
   "cell_type": "code",
   "execution_count": 39,
   "metadata": {},
   "outputs": [
    {
     "name": "stdout",
     "output_type": "stream",
     "text": [
      "Submitted batch job 3305433\r\n"
     ]
    }
   ],
   "source": [
    "\n",
    "!sbatch /projects/niblab/experiments/chocolate_milkshake/data/code/uc_ts_pull.job"
   ]
  },
  {
   "cell_type": "code",
   "execution_count": 6,
   "metadata": {},
   "outputs": [
    {
     "name": "stdout",
     "output_type": "stream",
     "text": [
      "             JOBID PARTITION     NAME     USER ST       TIME  NODES NODELIST(REASON)\r\n",
      "           3305425     batch timeseri   nbytes  R   21:09:55      1 largemem-0-0\r\n"
     ]
    }
   ],
   "source": [
    "!squeue -j 3305425\n",
    "#!scancel 3305433 \n",
    "#!squeue -u nbytes"
   ]
  },
  {
   "cell_type": "code",
   "execution_count": 46,
   "metadata": {},
   "outputs": [
    {
     "name": "stdout",
     "output_type": "stream",
     "text": [
      "timepull_beta_err_3185250.txt  timepull_out_3185250.txt\r\n",
      "timepull_beta_err_3185251.txt  timepull_out_3185251.txt\r\n",
      "timepull_beta_err_3185254.txt  timepull_out_3185254.txt\r\n",
      "timepull_beta_err_3185256.txt  timepull_out_3185256.txt\r\n",
      "timepull_beta_err_3185257.txt  timepull_out_3185257.txt\r\n",
      "timepull_err_3305301.txt       timepull_out_3305301.txt\r\n"
     ]
    }
   ],
   "source": [
    "!ls /projects/niblab/experiments/chocolate_milkshake/data/error_files"
   ]
  },
  {
   "cell_type": "code",
   "execution_count": 48,
   "metadata": {},
   "outputs": [
    {
     "name": "stdout",
     "output_type": "stream",
     "text": [
      "  File \"/projects/niblab/experiments/chocolate_milkshake/data/code/uc_ts_pull.py\", line 79\r\n",
      "    \"\"\"  \r\n",
      "        ^\r\n",
      "IndentationError: unindent does not match any outer indentation level\r\n"
     ]
    }
   ],
   "source": [
    "!cat /projects/niblab/experiments/chocolate_milkshake/data/error_files/timepull_err_3305301.txt"
   ]
  },
  {
   "cell_type": "markdown",
   "metadata": {},
   "source": [
    "## Combine Timeseries<a class='anchor' id='combinetimeseries'></a>"
   ]
  },
  {
   "cell_type": "markdown",
   "metadata": {},
   "source": [
    "**Combine individual rois for each subject and condition into a single matrix**"
   ]
  },
  {
   "cell_type": "code",
   "execution_count": null,
   "metadata": {},
   "outputs": [],
   "source": []
  },
  {
   "cell_type": "code",
   "execution_count": 11,
   "metadata": {},
   "outputs": [
    {
     "data": {
      "text/plain": [
       "300"
      ]
     },
     "execution_count": 11,
     "metadata": {},
     "output_type": "execute_result"
    }
   ],
   "source": [
    "#!ls /projects/niblab/experiments/chocolate_milkshake/data/rois/bigbrain300/funcs_uc/sub-001*\n",
    "\n",
    "\n",
    "# combining rois \n",
    "# sub-001_milkshakeC_\n",
    "subj_rois=glob.glob('/projects/niblab/experiments/chocolate_milkshake/data/rois/bigbrain300/funcs_uc/sub-001*milkshakeC*')\n",
    "len(subj_rois)\n",
    "\n",
    "\n"
   ]
  },
  {
   "cell_type": "code",
   "execution_count": 33,
   "metadata": {},
   "outputs": [
    {
     "data": {
      "text/plain": [
       "{'sub-001': {'task-milkshakeC': {}, 'task-milkshakeB': {}}}"
      ]
     },
     "execution_count": 33,
     "metadata": {},
     "output_type": "execute_result"
    }
   ],
   "source": [
    "\n",
    "# prep data dict\n",
    "\n",
    "\n",
    "funcs=glob.glob('/projects/niblab/experiments/chocolate_milkshake/data/preprocessed/sub-001/ses-1/func/sub-*brain.nii.gz')\n",
    "data_dict\n",
    "\n",
    "                "
   ]
  },
  {
   "cell_type": "code",
   "execution_count": 45,
   "metadata": {},
   "outputs": [],
   "source": [
    "error_subjects=[]\n",
    "def timeseries_concat(subject_ids,verbose=True):\n",
    "    \n",
    "    for subject_id in subject_ids:\n",
    "        \n",
    "        tasks=list(data_dict[subject_id].keys())\n",
    "        \n",
    "        for task in tasks:\n",
    "            \n",
    "\n",
    "            #print(subject_id, task, stim)\n",
    "            #print(os.path.join(beta_path, 'rois/big300/%s'%stim))\n",
    "            # get roi texts for subject / condition\n",
    "            roi_files = glob.glob(os.path.join(data_path, 'rois/bigbrain300/funcs_uc/%s*%s*.txt'%(subject_id,task)))\n",
    "\n",
    "            df_lst=[]\n",
    "            #print(roi_files)\n",
    "            \n",
    "            \n",
    "            try:\n",
    "                for txt in roi_files: \n",
    "                    #print(txt)\n",
    "                    df_temp = pd.read_csv(txt, sep=\"\\n\", header=None)\n",
    "                    #print(df_temp)\n",
    "                    df_lst.append(df_temp)\n",
    "                #print(subject_id, task, len(df_lst))\n",
    "\n",
    "                df_concat= pd.concat(df_lst, axis=1, sort=False)\n",
    "                #print(df_concat)\n",
    "\n",
    "                # write output file \n",
    "                \n",
    "                if not os.path.exists(os.path.join(data_path,'subject_matrices/funcs_uc')):\n",
    "                    if verbose==True:\n",
    "                        print('[INFO] making ',os.path.join(data_path,'subject_matrices/funcs_uc'))\n",
    "\n",
    "                    #os.makedirs(os.path.join(beta_path,'subject_matrices/%s'%stim))\n",
    "                outfile=os.path.join(data_path,\n",
    "                                     'subject_matrices/funcs_uc/%s_ses-1_%s.txt'%(subject_id,task))\n",
    "                if verbose==True:\n",
    "                    print('[PROCESSING] making file %s....'%outfile)\n",
    "\n",
    "                df_concat.to_csv(outfile, header=None, index=None, sep='\\t')\n",
    "            except:\n",
    "                pass\n",
    "                error_subjects.append((subject_id,task))\n",
    "\n",
    "    #if error_subjects: print(error_subjects)\n",
    "    return error_subjects;\n",
    "\n",
    "\n",
    "    \n",
    "    "
   ]
  },
  {
   "cell_type": "code",
   "execution_count": 46,
   "metadata": {},
   "outputs": [
    {
     "name": "stdout",
     "output_type": "stream",
     "text": [
      "[PROCESSING] making file /projects/niblab/experiments/chocolate_milkshake/data/subject_matrices/funcs_uc/sub-001_ses-1_task-milkshakeC.txt....\n",
      "[PROCESSING] making file /projects/niblab/experiments/chocolate_milkshake/data/subject_matrices/funcs_uc/sub-001_ses-1_task-milkshakeB.txt....\n"
     ]
    },
    {
     "data": {
      "text/plain": [
       "[]"
      ]
     },
     "execution_count": 46,
     "metadata": {},
     "output_type": "execute_result"
    }
   ],
   "source": [
    "timeseries_concat(data_dict.keys())"
   ]
  },
  {
   "cell_type": "code",
   "execution_count": 150,
   "metadata": {},
   "outputs": [
    {
     "data": {
      "text/plain": [
       "68700"
      ]
     },
     "execution_count": 150,
     "metadata": {},
     "output_type": "execute_result"
    }
   ],
   "source": [
    "task_func_file_ct=len(glob.glob('/projects/niblab/experiments/chocolate_milkshake/data/preprocessed/sub-*/ses-1/func/*milkshake*brain_3mm.nii.gz'))\n",
    "\n",
    "task_func_file_ct*300\n"
   ]
  },
  {
   "cell_type": "code",
   "execution_count": 3,
   "metadata": {},
   "outputs": [
    {
     "data": {
      "text/plain": [
       "13856"
      ]
     },
     "execution_count": 3,
     "metadata": {},
     "output_type": "execute_result"
    }
   ],
   "source": [
    "\n",
    "len(glob.glob('/projects/niblab/experiments/chocolate_milkshake/data/rois/bigbrain300/funcs_uc/*.txt'))\n"
   ]
  },
  {
   "cell_type": "code",
   "execution_count": 5,
   "metadata": {},
   "outputs": [
    {
     "data": {
      "text/plain": [
       "39"
      ]
     },
     "execution_count": 5,
     "metadata": {},
     "output_type": "execute_result"
    }
   ],
   "source": [
    "subs_in_matrices=[z.split(\"/\")[-1].split(\"_\")[0] for z in glob.glob('/projects/niblab/experiments/chocolate_milkshake/data/rois/bigbrain300/funcs_uc/*.txt')]\n",
    "\n",
    "unique_subs_rois_id= set(subs_in_matrices)\n",
    "\n",
    "len(unique_subs_rois_id)\n",
    "    "
   ]
  },
  {
   "cell_type": "markdown",
   "metadata": {},
   "source": [
    "## Functional Connectivity Matrix <a class='anchor' id='fcm'></a>"
   ]
  },
  {
   "cell_type": "code",
   "execution_count": 57,
   "metadata": {},
   "outputs": [],
   "source": [
    "import seaborn as sns\n",
    "from nilearn.connectome import ConnectivityMeasure\n",
    "import numpy as np\n",
    "from matplotlib import pyplot as plt\n",
    "from nilearn import plotting\n",
    "from nilearn.plotting import plot_connectome\n"
   ]
  },
  {
   "cell_type": "code",
   "execution_count": 140,
   "metadata": {},
   "outputs": [],
   "source": [
    "cmap=\"BuPu\"#\"ocean_hot_r\"\n",
    "timeseries_files=glob.glob('/projects/niblab/experiments/chocolate_milkshake/data/subject_matrices/funcs_uc/sub-001_*.txt')\n",
    "\n",
    "# Initializing ConnectivityMeasure object with kind='correlation'\n",
    "connectome_measure = ConnectivityMeasure(kind='correlation')#, vectorize=True)\n"
   ]
  },
  {
   "cell_type": "code",
   "execution_count": 141,
   "metadata": {},
   "outputs": [
    {
     "data": {
      "image/png": "[encoded data removed]",
      "text/plain": [
       "<Figure size 504x360 with 2 Axes>"
      ]
     },
     "metadata": {
      "needs_background": "light"
     },
     "output_type": "display_data"
    },
    {
     "data": {
      "image/png": "[encoded data removed]",
      "text/plain": [
       "<Figure size 504x360 with 2 Axes>"
      ]
     },
     "metadata": {
      "needs_background": "light"
     },
     "output_type": "display_data"
    }
   ],
   "source": [
    "\n",
    "fc_corr_dict = {}\n",
    "    \n",
    "subj_list=[]\n",
    "bad_subjects=[]\n",
    "correlations = []\n",
    "n_regions_extracted=300\n",
    "\n",
    "    \n",
    "for subj_timeseries in sorted(timeseries_files):\n",
    "    #print(subj_timeseries)\n",
    "    \n",
    "    subj_id=subj_timeseries.split(\"/\")[-1].split(\"_\")[0]\n",
    "    task_id=subj_timeseries.split(\"/\")[-1].split(\"_\")[2].split(\".\")[0]\n",
    "\n",
    "    \n",
    "    if subj_id not in fc_corr_dict:\n",
    "        fc_corr_dict[subj_id] = {}\n",
    "                              \n",
    "    if subj_id not in subj_list:\n",
    "        subj_list.append(subj_id)\n",
    "                              \n",
    "    filename = subj_timeseries.split(\"/\")[-1] #\"%s_ses-1_%s.txt\"%(subj_id, task_id)\n",
    "    #print(\"\\n[INFO] Subject Matrix: %s \"%filename)\n",
    "    title_str=filename.split(\".\")[0]\n",
    "    \n",
    "    try:\n",
    "        # we load the text file timeseries into an array \n",
    "        np_arr = np.loadtxt(subj_timeseries)\n",
    "        #print(np_arr)\n",
    "        \n",
    "        \n",
    "        # call fit_transform from ConnectivityMeasure object\n",
    "        correlation_matrix = connectome_measure.fit_transform([np_arr])[0]\n",
    "        #correlations.append(correlation)\n",
    "        #print('[INFO] CORRELATION: ', correlation_matrix)\n",
    "        \n",
    "        # Mask out the major diagonal\n",
    "        np.fill_diagonal(correlation_matrix, 0)\n",
    "        # plot subject correlation matrix\n",
    "        plotting.plot_matrix(correlation_matrix, cmap=cmap, colorbar=True,title=title_str, tri='lower')\n",
    "        \n",
    "        # save correlation as textfile\n",
    "        #np.savetxt('/content/'+filename, correlation.transpose(2,0,1).reshape(3,-1))\n",
    "    \n",
    "    except:\n",
    "        bad_subjects.append(subj_id)\n",
    "        pass\n"
   ]
  },
  {
   "cell_type": "code",
   "execution_count": 2,
   "metadata": {},
   "outputs": [
    {
     "name": "stdout",
     "output_type": "stream",
     "text": [
      "             JOBID PARTITION     NAME     USER ST       TIME  NODES NODELIST(REASON)\r\n",
      "           3305425     batch timeseri   nbytes  R 1-03:57:41      1 largemem-0-0\r\n"
     ]
    }
   ],
   "source": [
    "!squeue -u nbytes"
   ]
  },
  {
   "cell_type": "code",
   "execution_count": 8,
   "metadata": {},
   "outputs": [
    {
     "data": {
      "text/plain": [
       "4"
      ]
     },
     "execution_count": 8,
     "metadata": {},
     "output_type": "execute_result"
    }
   ],
   "source": []
  },
  {
   "cell_type": "code",
   "execution_count": null,
   "metadata": {},
   "outputs": [],
   "source": []
  }
 ],
 "metadata": {
  "kernelspec": {
   "display_name": "Python 3",
   "language": "python",
   "name": "python3"
  },
  "language_info": {
   "codemirror_mode": {
    "name": "ipython",
    "version": 3
   },
   "file_extension": ".py",
   "mimetype": "text/x-python",
   "name": "python",
   "nbconvert_exporter": "python",
   "pygments_lexer": "ipython3",
   "version": "3.7.6"
  },
  "pycharm": {
   "stem_cell": {
    "cell_type": "raw",
    "source": [],
    "metadata": {
     "collapsed": false
    }
   }
  }
 },
 "nbformat": 4,
 "nbformat_minor": 4
}